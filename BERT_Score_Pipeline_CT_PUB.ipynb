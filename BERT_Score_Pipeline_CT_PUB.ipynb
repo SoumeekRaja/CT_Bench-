{
  "cells": [
    {
      "cell_type": "markdown",
      "metadata": {
        "id": "PD7SZUTUZA-x"
      },
      "source": [
        "### **NOTE: You Need GPU For this. I ran this notebook in Google Colab with T4 GPU Instance**\n",
        "Colab Notebook Link: https://colab.research.google.com/drive/1Yg8f3OG98yfKhLa6zoXgF0xiobzVTkgT?usp=sharing (View Only)"
      ]
    },
    {
      "cell_type": "markdown",
      "metadata": {
        "id": "zR9t_gG0X-uj"
      },
      "source": [
        "# Imports and Installs"
      ]
    },
    {
      "cell_type": "code",
      "execution_count": 1,
      "metadata": {
        "colab": {
          "base_uri": "https://localhost:8080/"
        },
        "collapsed": true,
        "id": "2GhaVZgQOtIE",
        "outputId": "c056ca19-79fe-485a-8131-41d5d1d76aa7"
      },
      "outputs": [
        {
          "name": "stdout",
          "output_type": "stream",
          "text": [
            "Collecting transformers==4.26.0\n",
            "  Downloading transformers-4.26.0-py3-none-any.whl.metadata (100 kB)\n",
            "\u001b[?25l     \u001b[90m━━━━━━━━━━━━━━━━━━━━━━━━━━━━━━━━━━━━━━━━\u001b[0m \u001b[32m0.0/100.3 kB\u001b[0m \u001b[31m?\u001b[0m eta \u001b[36m-:--:--\u001b[0m\r\u001b[2K     \u001b[90m━━━━━━━━━━━━━━━━━━━━━━━━━━━━━━━━━━━━━━━━\u001b[0m \u001b[32m100.3/100.3 kB\u001b[0m \u001b[31m5.8 MB/s\u001b[0m eta \u001b[36m0:00:00\u001b[0m\n",
            "\u001b[?25hRequirement already satisfied: filelock in /usr/local/lib/python3.10/dist-packages (from transformers==4.26.0) (3.16.0)\n",
            "Requirement already satisfied: huggingface-hub<1.0,>=0.11.0 in /usr/local/lib/python3.10/dist-packages (from transformers==4.26.0) (0.24.6)\n",
            "Requirement already satisfied: numpy>=1.17 in /usr/local/lib/python3.10/dist-packages (from transformers==4.26.0) (1.26.4)\n",
            "Requirement already satisfied: packaging>=20.0 in /usr/local/lib/python3.10/dist-packages (from transformers==4.26.0) (24.1)\n",
            "Requirement already satisfied: pyyaml>=5.1 in /usr/local/lib/python3.10/dist-packages (from transformers==4.26.0) (6.0.2)\n",
            "Requirement already satisfied: regex!=2019.12.17 in /usr/local/lib/python3.10/dist-packages (from transformers==4.26.0) (2024.5.15)\n",
            "Requirement already satisfied: requests in /usr/local/lib/python3.10/dist-packages (from transformers==4.26.0) (2.32.3)\n",
            "Collecting tokenizers!=0.11.3,<0.14,>=0.11.1 (from transformers==4.26.0)\n",
            "  Downloading tokenizers-0.13.3-cp310-cp310-manylinux_2_17_x86_64.manylinux2014_x86_64.whl.metadata (6.7 kB)\n",
            "Requirement already satisfied: tqdm>=4.27 in /usr/local/lib/python3.10/dist-packages (from transformers==4.26.0) (4.66.5)\n",
            "Requirement already satisfied: fsspec>=2023.5.0 in /usr/local/lib/python3.10/dist-packages (from huggingface-hub<1.0,>=0.11.0->transformers==4.26.0) (2024.6.1)\n",
            "Requirement already satisfied: typing-extensions>=3.7.4.3 in /usr/local/lib/python3.10/dist-packages (from huggingface-hub<1.0,>=0.11.0->transformers==4.26.0) (4.12.2)\n",
            "Requirement already satisfied: charset-normalizer<4,>=2 in /usr/local/lib/python3.10/dist-packages (from requests->transformers==4.26.0) (3.3.2)\n",
            "Requirement already satisfied: idna<4,>=2.5 in /usr/local/lib/python3.10/dist-packages (from requests->transformers==4.26.0) (3.8)\n",
            "Requirement already satisfied: urllib3<3,>=1.21.1 in /usr/local/lib/python3.10/dist-packages (from requests->transformers==4.26.0) (2.0.7)\n",
            "Requirement already satisfied: certifi>=2017.4.17 in /usr/local/lib/python3.10/dist-packages (from requests->transformers==4.26.0) (2024.8.30)\n",
            "Downloading transformers-4.26.0-py3-none-any.whl (6.3 MB)\n",
            "\u001b[2K   \u001b[90m━━━━━━━━━━━━━━━━━━━━━━━━━━━━━━━━━━━━━━━━\u001b[0m \u001b[32m6.3/6.3 MB\u001b[0m \u001b[31m87.0 MB/s\u001b[0m eta \u001b[36m0:00:00\u001b[0m\n",
            "\u001b[?25hDownloading tokenizers-0.13.3-cp310-cp310-manylinux_2_17_x86_64.manylinux2014_x86_64.whl (7.8 MB)\n",
            "\u001b[2K   \u001b[90m━━━━━━━━━━━━━━━━━━━━━━━━━━━━━━━━━━━━━━━━\u001b[0m \u001b[32m7.8/7.8 MB\u001b[0m \u001b[31m104.2 MB/s\u001b[0m eta \u001b[36m0:00:00\u001b[0m\n",
            "\u001b[?25hInstalling collected packages: tokenizers, transformers\n",
            "  Attempting uninstall: tokenizers\n",
            "    Found existing installation: tokenizers 0.19.1\n",
            "    Uninstalling tokenizers-0.19.1:\n",
            "      Successfully uninstalled tokenizers-0.19.1\n",
            "  Attempting uninstall: transformers\n",
            "    Found existing installation: transformers 4.44.2\n",
            "    Uninstalling transformers-4.44.2:\n",
            "      Successfully uninstalled transformers-4.44.2\n",
            "Successfully installed tokenizers-0.13.3 transformers-4.26.0\n",
            "Collecting trial2vec\n",
            "  Downloading Trial2Vec-0.1.0-py3-none-any.whl.metadata (3.9 kB)\n",
            "Collecting datasets (from trial2vec)\n",
            "  Downloading datasets-3.0.0-py3-none-any.whl.metadata (19 kB)\n",
            "Requirement already satisfied: joblib in /usr/local/lib/python3.10/dist-packages (from trial2vec) (1.4.2)\n",
            "Requirement already satisfied: nltk in /usr/local/lib/python3.10/dist-packages (from trial2vec) (3.8.1)\n",
            "Requirement already satisfied: numpy in /usr/local/lib/python3.10/dist-packages (from trial2vec) (1.26.4)\n",
            "Requirement already satisfied: pandas in /usr/local/lib/python3.10/dist-packages (from trial2vec) (2.1.4)\n",
            "Collecting textaugment (from trial2vec)\n",
            "  Downloading textaugment-2.0.0-py3-none-any.whl.metadata (12 kB)\n",
            "Requirement already satisfied: tqdm in /usr/local/lib/python3.10/dist-packages (from trial2vec) (4.66.5)\n",
            "Requirement already satisfied: transformers in /usr/local/lib/python3.10/dist-packages (from trial2vec) (4.26.0)\n",
            "Collecting wget (from trial2vec)\n",
            "  Downloading wget-3.2.zip (10 kB)\n",
            "  Preparing metadata (setup.py) ... \u001b[?25l\u001b[?25hdone\n",
            "Requirement already satisfied: openpyxl in /usr/local/lib/python3.10/dist-packages (from trial2vec) (3.1.5)\n",
            "Requirement already satisfied: filelock in /usr/local/lib/python3.10/dist-packages (from datasets->trial2vec) (3.16.0)\n",
            "Collecting pyarrow>=15.0.0 (from datasets->trial2vec)\n",
            "  Downloading pyarrow-17.0.0-cp310-cp310-manylinux_2_28_x86_64.whl.metadata (3.3 kB)\n",
            "Collecting dill<0.3.9,>=0.3.0 (from datasets->trial2vec)\n",
            "  Downloading dill-0.3.8-py3-none-any.whl.metadata (10 kB)\n",
            "Requirement already satisfied: requests>=2.32.2 in /usr/local/lib/python3.10/dist-packages (from datasets->trial2vec) (2.32.3)\n",
            "Collecting xxhash (from datasets->trial2vec)\n",
            "  Downloading xxhash-3.5.0-cp310-cp310-manylinux_2_17_x86_64.manylinux2014_x86_64.whl.metadata (12 kB)\n",
            "Collecting multiprocess (from datasets->trial2vec)\n",
            "  Downloading multiprocess-0.70.16-py310-none-any.whl.metadata (7.2 kB)\n",
            "Requirement already satisfied: fsspec<=2024.6.1,>=2023.1.0 in /usr/local/lib/python3.10/dist-packages (from fsspec[http]<=2024.6.1,>=2023.1.0->datasets->trial2vec) (2024.6.1)\n",
            "Requirement already satisfied: aiohttp in /usr/local/lib/python3.10/dist-packages (from datasets->trial2vec) (3.10.5)\n",
            "Requirement already satisfied: huggingface-hub>=0.22.0 in /usr/local/lib/python3.10/dist-packages (from datasets->trial2vec) (0.24.6)\n",
            "Requirement already satisfied: packaging in /usr/local/lib/python3.10/dist-packages (from datasets->trial2vec) (24.1)\n",
            "Requirement already satisfied: pyyaml>=5.1 in /usr/local/lib/python3.10/dist-packages (from datasets->trial2vec) (6.0.2)\n",
            "Requirement already satisfied: click in /usr/local/lib/python3.10/dist-packages (from nltk->trial2vec) (8.1.7)\n",
            "Requirement already satisfied: regex>=2021.8.3 in /usr/local/lib/python3.10/dist-packages (from nltk->trial2vec) (2024.5.15)\n",
            "Requirement already satisfied: et-xmlfile in /usr/local/lib/python3.10/dist-packages (from openpyxl->trial2vec) (1.1.0)\n",
            "Requirement already satisfied: python-dateutil>=2.8.2 in /usr/local/lib/python3.10/dist-packages (from pandas->trial2vec) (2.8.2)\n",
            "Requirement already satisfied: pytz>=2020.1 in /usr/local/lib/python3.10/dist-packages (from pandas->trial2vec) (2024.1)\n",
            "Requirement already satisfied: tzdata>=2022.1 in /usr/local/lib/python3.10/dist-packages (from pandas->trial2vec) (2024.1)\n",
            "Requirement already satisfied: gensim>=4.0 in /usr/local/lib/python3.10/dist-packages (from textaugment->trial2vec) (4.3.3)\n",
            "Requirement already satisfied: textblob in /usr/local/lib/python3.10/dist-packages (from textaugment->trial2vec) (0.17.1)\n",
            "Collecting googletrans>=2 (from textaugment->trial2vec)\n",
            "  Downloading googletrans-3.0.0.tar.gz (17 kB)\n",
            "  Preparing metadata (setup.py) ... \u001b[?25l\u001b[?25hdone\n",
            "Requirement already satisfied: tokenizers!=0.11.3,<0.14,>=0.11.1 in /usr/local/lib/python3.10/dist-packages (from transformers->trial2vec) (0.13.3)\n",
            "Requirement already satisfied: aiohappyeyeballs>=2.3.0 in /usr/local/lib/python3.10/dist-packages (from aiohttp->datasets->trial2vec) (2.4.0)\n",
            "Requirement already satisfied: aiosignal>=1.1.2 in /usr/local/lib/python3.10/dist-packages (from aiohttp->datasets->trial2vec) (1.3.1)\n",
            "Requirement already satisfied: attrs>=17.3.0 in /usr/local/lib/python3.10/dist-packages (from aiohttp->datasets->trial2vec) (24.2.0)\n",
            "Requirement already satisfied: frozenlist>=1.1.1 in /usr/local/lib/python3.10/dist-packages (from aiohttp->datasets->trial2vec) (1.4.1)\n",
            "Requirement already satisfied: multidict<7.0,>=4.5 in /usr/local/lib/python3.10/dist-packages (from aiohttp->datasets->trial2vec) (6.0.5)\n",
            "Requirement already satisfied: yarl<2.0,>=1.0 in /usr/local/lib/python3.10/dist-packages (from aiohttp->datasets->trial2vec) (1.11.1)\n",
            "Requirement already satisfied: async-timeout<5.0,>=4.0 in /usr/local/lib/python3.10/dist-packages (from aiohttp->datasets->trial2vec) (4.0.3)\n",
            "Requirement already satisfied: scipy<1.14.0,>=1.7.0 in /usr/local/lib/python3.10/dist-packages (from gensim>=4.0->textaugment->trial2vec) (1.13.1)\n",
            "Requirement already satisfied: smart-open>=1.8.1 in /usr/local/lib/python3.10/dist-packages (from gensim>=4.0->textaugment->trial2vec) (7.0.4)\n",
            "Collecting httpx==0.13.3 (from googletrans>=2->textaugment->trial2vec)\n",
            "  Downloading httpx-0.13.3-py3-none-any.whl.metadata (25 kB)\n",
            "Requirement already satisfied: certifi in /usr/local/lib/python3.10/dist-packages (from httpx==0.13.3->googletrans>=2->textaugment->trial2vec) (2024.8.30)\n",
            "Collecting hstspreload (from httpx==0.13.3->googletrans>=2->textaugment->trial2vec)\n",
            "  Downloading hstspreload-2024.9.1-py3-none-any.whl.metadata (2.1 kB)\n",
            "Requirement already satisfied: sniffio in /usr/local/lib/python3.10/dist-packages (from httpx==0.13.3->googletrans>=2->textaugment->trial2vec) (1.3.1)\n",
            "Collecting chardet==3.* (from httpx==0.13.3->googletrans>=2->textaugment->trial2vec)\n",
            "  Downloading chardet-3.0.4-py2.py3-none-any.whl.metadata (3.2 kB)\n",
            "Collecting idna==2.* (from httpx==0.13.3->googletrans>=2->textaugment->trial2vec)\n",
            "  Downloading idna-2.10-py2.py3-none-any.whl.metadata (9.1 kB)\n",
            "Collecting rfc3986<2,>=1.3 (from httpx==0.13.3->googletrans>=2->textaugment->trial2vec)\n",
            "  Downloading rfc3986-1.5.0-py2.py3-none-any.whl.metadata (6.5 kB)\n",
            "Collecting httpcore==0.9.* (from httpx==0.13.3->googletrans>=2->textaugment->trial2vec)\n",
            "  Downloading httpcore-0.9.1-py3-none-any.whl.metadata (4.6 kB)\n",
            "Collecting h11<0.10,>=0.8 (from httpcore==0.9.*->httpx==0.13.3->googletrans>=2->textaugment->trial2vec)\n",
            "  Downloading h11-0.9.0-py2.py3-none-any.whl.metadata (8.1 kB)\n",
            "Collecting h2==3.* (from httpcore==0.9.*->httpx==0.13.3->googletrans>=2->textaugment->trial2vec)\n",
            "  Downloading h2-3.2.0-py2.py3-none-any.whl.metadata (32 kB)\n",
            "Collecting hyperframe<6,>=5.2.0 (from h2==3.*->httpcore==0.9.*->httpx==0.13.3->googletrans>=2->textaugment->trial2vec)\n",
            "  Downloading hyperframe-5.2.0-py2.py3-none-any.whl.metadata (7.2 kB)\n",
            "Collecting hpack<4,>=3.0 (from h2==3.*->httpcore==0.9.*->httpx==0.13.3->googletrans>=2->textaugment->trial2vec)\n",
            "  Downloading hpack-3.0.0-py2.py3-none-any.whl.metadata (7.0 kB)\n",
            "Requirement already satisfied: typing-extensions>=3.7.4.3 in /usr/local/lib/python3.10/dist-packages (from huggingface-hub>=0.22.0->datasets->trial2vec) (4.12.2)\n",
            "Requirement already satisfied: six>=1.5 in /usr/local/lib/python3.10/dist-packages (from python-dateutil>=2.8.2->pandas->trial2vec) (1.16.0)\n",
            "Requirement already satisfied: charset-normalizer<4,>=2 in /usr/local/lib/python3.10/dist-packages (from requests>=2.32.2->datasets->trial2vec) (3.3.2)\n",
            "Requirement already satisfied: urllib3<3,>=1.21.1 in /usr/local/lib/python3.10/dist-packages (from requests>=2.32.2->datasets->trial2vec) (2.0.7)\n",
            "Requirement already satisfied: wrapt in /usr/local/lib/python3.10/dist-packages (from smart-open>=1.8.1->gensim>=4.0->textaugment->trial2vec) (1.16.0)\n",
            "Downloading Trial2Vec-0.1.0-py3-none-any.whl (27 kB)\n",
            "Downloading datasets-3.0.0-py3-none-any.whl (474 kB)\n",
            "\u001b[2K   \u001b[90m━━━━━━━━━━━━━━━━━━━━━━━━━━━━━━━━━━━━━━━━\u001b[0m \u001b[32m474.3/474.3 kB\u001b[0m \u001b[31m24.3 MB/s\u001b[0m eta \u001b[36m0:00:00\u001b[0m\n",
            "\u001b[?25hDownloading textaugment-2.0.0-py3-none-any.whl (19 kB)\n",
            "Downloading dill-0.3.8-py3-none-any.whl (116 kB)\n",
            "\u001b[2K   \u001b[90m━━━━━━━━━━━━━━━━━━━━━━━━━━━━━━━━━━━━━━━━\u001b[0m \u001b[32m116.3/116.3 kB\u001b[0m \u001b[31m12.6 MB/s\u001b[0m eta \u001b[36m0:00:00\u001b[0m\n",
            "\u001b[?25hDownloading httpx-0.13.3-py3-none-any.whl (55 kB)\n",
            "\u001b[2K   \u001b[90m━━━━━━━━━━━━━━━━━━━━━━━━━━━━━━━━━━━━━━━━\u001b[0m \u001b[32m55.1/55.1 kB\u001b[0m \u001b[31m5.8 MB/s\u001b[0m eta \u001b[36m0:00:00\u001b[0m\n",
            "\u001b[?25hDownloading chardet-3.0.4-py2.py3-none-any.whl (133 kB)\n",
            "\u001b[2K   \u001b[90m━━━━━━━━━━━━━━━━━━━━━━━━━━━━━━━━━━━━━━━━\u001b[0m \u001b[32m133.4/133.4 kB\u001b[0m \u001b[31m15.5 MB/s\u001b[0m eta \u001b[36m0:00:00\u001b[0m\n",
            "\u001b[?25hDownloading httpcore-0.9.1-py3-none-any.whl (42 kB)\n",
            "\u001b[2K   \u001b[90m━━━━━━━━━━━━━━━━━━━━━━━━━━━━━━━━━━━━━━━━\u001b[0m \u001b[32m42.6/42.6 kB\u001b[0m \u001b[31m4.6 MB/s\u001b[0m eta \u001b[36m0:00:00\u001b[0m\n",
            "\u001b[?25hDownloading idna-2.10-py2.py3-none-any.whl (58 kB)\n",
            "\u001b[2K   \u001b[90m━━━━━━━━━━━━━━━━━━━━━━━━━━━━━━━━━━━━━━━━\u001b[0m \u001b[32m58.8/58.8 kB\u001b[0m \u001b[31m7.1 MB/s\u001b[0m eta \u001b[36m0:00:00\u001b[0m\n",
            "\u001b[?25hDownloading h2-3.2.0-py2.py3-none-any.whl (65 kB)\n",
            "\u001b[2K   \u001b[90m━━━━━━━━━━━━━━━━━━━━━━━━━━━━━━━━━━━━━━━━\u001b[0m \u001b[32m65.0/65.0 kB\u001b[0m \u001b[31m7.8 MB/s\u001b[0m eta \u001b[36m0:00:00\u001b[0m\n",
            "\u001b[?25hDownloading pyarrow-17.0.0-cp310-cp310-manylinux_2_28_x86_64.whl (39.9 MB)\n",
            "\u001b[2K   \u001b[90m━━━━━━━━━━━━━━━━━━━━━━━━━━━━━━━━━━━━━━━━\u001b[0m \u001b[32m39.9/39.9 MB\u001b[0m \u001b[31m19.5 MB/s\u001b[0m eta \u001b[36m0:00:00\u001b[0m\n",
            "\u001b[?25hDownloading multiprocess-0.70.16-py310-none-any.whl (134 kB)\n",
            "\u001b[2K   \u001b[90m━━━━━━━━━━━━━━━━━━━━━━━━━━━━━━━━━━━━━━━━\u001b[0m \u001b[32m134.8/134.8 kB\u001b[0m \u001b[31m13.6 MB/s\u001b[0m eta \u001b[36m0:00:00\u001b[0m\n",
            "\u001b[?25hDownloading xxhash-3.5.0-cp310-cp310-manylinux_2_17_x86_64.manylinux2014_x86_64.whl (194 kB)\n",
            "\u001b[2K   \u001b[90m━━━━━━━━━━━━━━━━━━━━━━━━━━━━━━━━━━━━━━━━\u001b[0m \u001b[32m194.1/194.1 kB\u001b[0m \u001b[31m21.4 MB/s\u001b[0m eta \u001b[36m0:00:00\u001b[0m\n",
            "\u001b[?25hDownloading rfc3986-1.5.0-py2.py3-none-any.whl (31 kB)\n",
            "Downloading hstspreload-2024.9.1-py3-none-any.whl (1.2 MB)\n",
            "\u001b[2K   \u001b[90m━━━━━━━━━━━━━━━━━━━━━━━━━━━━━━━━━━━━━━━━\u001b[0m \u001b[32m1.2/1.2 MB\u001b[0m \u001b[31m67.6 MB/s\u001b[0m eta \u001b[36m0:00:00\u001b[0m\n",
            "\u001b[?25hDownloading h11-0.9.0-py2.py3-none-any.whl (53 kB)\n",
            "\u001b[2K   \u001b[90m━━━━━━━━━━━━━━━━━━━━━━━━━━━━━━━━━━━━━━━━\u001b[0m \u001b[32m53.6/53.6 kB\u001b[0m \u001b[31m5.9 MB/s\u001b[0m eta \u001b[36m0:00:00\u001b[0m\n",
            "\u001b[?25hDownloading hpack-3.0.0-py2.py3-none-any.whl (38 kB)\n",
            "Downloading hyperframe-5.2.0-py2.py3-none-any.whl (12 kB)\n",
            "Building wheels for collected packages: wget, googletrans\n",
            "  Building wheel for wget (setup.py) ... \u001b[?25l\u001b[?25hdone\n",
            "  Created wheel for wget: filename=wget-3.2-py3-none-any.whl size=9656 sha256=d171da2bf88b922506bd3dcd4fe6dc70fca52978d586b9315c6dfa1d40cafc2f\n",
            "  Stored in directory: /root/.cache/pip/wheels/8b/f1/7f/5c94f0a7a505ca1c81cd1d9208ae2064675d97582078e6c769\n",
            "  Building wheel for googletrans (setup.py) ... \u001b[?25l\u001b[?25hdone\n",
            "  Created wheel for googletrans: filename=googletrans-3.0.0-py3-none-any.whl size=15718 sha256=fc0f3f94633156c5298d5022a0e174b1d8cf628ce536cc6d5526ae92f415cf5e\n",
            "  Stored in directory: /root/.cache/pip/wheels/b3/81/ea/8b030407f8ebfc2f857814e086bb22ca2d4fea1a7be63652ab\n",
            "Successfully built wget googletrans\n",
            "Installing collected packages: wget, rfc3986, hyperframe, hpack, h11, chardet, xxhash, pyarrow, idna, hstspreload, h2, dill, multiprocess, httpcore, httpx, googletrans, textaugment, datasets, trial2vec\n",
            "  Attempting uninstall: chardet\n",
            "    Found existing installation: chardet 5.2.0\n",
            "    Uninstalling chardet-5.2.0:\n",
            "      Successfully uninstalled chardet-5.2.0\n",
            "  Attempting uninstall: pyarrow\n",
            "    Found existing installation: pyarrow 14.0.2\n",
            "    Uninstalling pyarrow-14.0.2:\n",
            "      Successfully uninstalled pyarrow-14.0.2\n",
            "  Attempting uninstall: idna\n",
            "    Found existing installation: idna 3.8\n",
            "    Uninstalling idna-3.8:\n",
            "      Successfully uninstalled idna-3.8\n",
            "\u001b[31mERROR: pip's dependency resolver does not currently take into account all the packages that are installed. This behaviour is the source of the following dependency conflicts.\n",
            "cudf-cu12 24.4.1 requires pyarrow<15.0.0a0,>=14.0.1, but you have pyarrow 17.0.0 which is incompatible.\n",
            "ibis-framework 8.0.0 requires pyarrow<16,>=2, but you have pyarrow 17.0.0 which is incompatible.\u001b[0m\u001b[31m\n",
            "\u001b[0mSuccessfully installed chardet-3.0.4 datasets-3.0.0 dill-0.3.8 googletrans-3.0.0 h11-0.9.0 h2-3.2.0 hpack-3.0.0 hstspreload-2024.9.1 httpcore-0.9.1 httpx-0.13.3 hyperframe-5.2.0 idna-2.10 multiprocess-0.70.16 pyarrow-17.0.0 rfc3986-1.5.0 textaugment-2.0.0 trial2vec-0.1.0 wget-3.2 xxhash-3.5.0\n"
          ]
        }
      ],
      "source": [
        "!pip3 install transformers==4.26.0\n",
        "!pip3 install trial2vec"
      ]
    },
    {
      "cell_type": "code",
      "execution_count": 3,
      "metadata": {
        "colab": {
          "base_uri": "https://localhost:8080/",
          "height": 484,
          "referenced_widgets": [
            "534dad3df2074933b2bc63fd7ab6d18e",
            "4a5afe249f024ebe86e9fca424c17bb8",
            "57c9c97dd8044bc9b2b447fed13509ba",
            "775e6ac3d85a456a83a2b3eb400e413b",
            "6ac4301f49ff445583298ddfaef170be",
            "5be9950eea0142e5982a1ab5cc8f86a0",
            "2289ea46a0144c4eb33c087a752ba95c",
            "c7947de01c954367ab455c9b4f5211f4",
            "30b135cb458948578dc78db6512b436d",
            "e0cb15a6399e4e2ea7f50a934c42cad7",
            "a4019cf0adae4278a984b47b92681ee3",
            "d53cf8c82d9047fb9fba200f1f34a5e9",
            "4a619d4f09b743d9b8858d97e892eb7d",
            "5f958b1eae48489bb967a1af0c28b6f2",
            "b228b566ab5e4b319409cc991ea3e7dd",
            "76bf0aa251a14c4696a1249c73f7ec2f",
            "5ddcf8e896f64564b58068e4b93b3fde",
            "c376201f763f4284ba126e96a059275f",
            "949a2dec131045a387da3e75defaa8ab",
            "a5da71c3b5e446ea86f2dd83fa4551a2",
            "b33e612754b640a3a093987a894a89c1",
            "f07475313d8048c6946881885615f819",
            "cf406018bf234e35a6fa80716d8bbb83",
            "320cc03eafb34126af5d2ae644ed2b2e",
            "752c0a40ac04431f9ee37214ecca42eb",
            "98c3998862a24b7eb05efbeaf68067e1",
            "c04ed6028cb94e5ba10c24f7657138b1",
            "1a4d2c7090a2425b987db08c340e3ef6",
            "a51a263056b44ae89a9d91e2b8a18c28",
            "74eb62b414ba4a44b5f0c920f4afa1ee",
            "4a79070e80d74683a4f60d951b4a0ead",
            "5e4a063d75b84094800d3b0db80c35bb",
            "4ab4af09a444438b8fc43db702c027ea"
          ]
        },
        "id": "czeJpIcOQCrg",
        "outputId": "b0e84109-0e04-4074-e1cf-c9bf87a4b401"
      },
      "outputs": [
        {
          "name": "stderr",
          "output_type": "stream",
          "text": [
            "/usr/local/lib/python3.10/dist-packages/huggingface_hub/file_download.py:1150: FutureWarning: `resume_download` is deprecated and will be removed in version 1.0.0. Downloads always resume when possible. If you want to force a new download, use `force_download=True`.\n",
            "  warnings.warn(\n"
          ]
        },
        {
          "data": {
            "application/vnd.jupyter.widget-view+json": {
              "model_id": "534dad3df2074933b2bc63fd7ab6d18e",
              "version_major": 2,
              "version_minor": 0
            },
            "text/plain": [
              "config.json:   0%|          | 0.00/385 [00:00<?, ?B/s]"
            ]
          },
          "metadata": {},
          "output_type": "display_data"
        },
        {
          "data": {
            "application/vnd.jupyter.widget-view+json": {
              "model_id": "d53cf8c82d9047fb9fba200f1f34a5e9",
              "version_major": 2,
              "version_minor": 0
            },
            "text/plain": [
              "vocab.txt:   0%|          | 0.00/213k [00:00<?, ?B/s]"
            ]
          },
          "metadata": {},
          "output_type": "display_data"
        },
        {
          "name": "stderr",
          "output_type": "stream",
          "text": [
            "/usr/local/lib/python3.10/dist-packages/huggingface_hub/file_download.py:1150: FutureWarning: `resume_download` is deprecated and will be removed in version 1.0.0. Downloads always resume when possible. If you want to force a new download, use `force_download=True`.\n",
            "  warnings.warn(\n"
          ]
        },
        {
          "data": {
            "application/vnd.jupyter.widget-view+json": {
              "model_id": "cf406018bf234e35a6fa80716d8bbb83",
              "version_major": 2,
              "version_minor": 0
            },
            "text/plain": [
              "pytorch_model.bin:   0%|          | 0.00/436M [00:00<?, ?B/s]"
            ]
          },
          "metadata": {},
          "output_type": "display_data"
        },
        {
          "name": "stderr",
          "output_type": "stream",
          "text": [
            "/usr/local/lib/python3.10/dist-packages/transformers/modeling_utils.py:415: FutureWarning: You are using `torch.load` with `weights_only=False` (the current default value), which uses the default pickle module implicitly. It is possible to construct malicious pickle data which will execute arbitrary code during unpickling (See https://github.com/pytorch/pytorch/blob/main/SECURITY.md#untrusted-models for more details). In a future release, the default value for `weights_only` will be flipped to `True`. This limits the functions that could be executed during unpickling. Arbitrary objects will no longer be allowed to be loaded via this mode unless they are explicitly allowlisted by the user via `torch.serialization.add_safe_globals`. We recommend you start setting `weights_only=True` for any use case where you don't have full control of the loaded file. Please open an issue on GitHub for any issues related to this experimental feature.\n",
            "  return torch.load(checkpoint_file, map_location=\"cpu\")\n",
            "Some weights of the model checkpoint at emilyalsentzer/Bio_ClinicalBERT were not used when initializing BertModel: ['cls.predictions.transform.dense.weight', 'cls.predictions.transform.dense.bias', 'cls.seq_relationship.weight', 'cls.predictions.transform.LayerNorm.weight', 'cls.predictions.bias', 'cls.predictions.decoder.weight', 'cls.seq_relationship.bias', 'cls.predictions.transform.LayerNorm.bias']\n",
            "- This IS expected if you are initializing BertModel from the checkpoint of a model trained on another task or with another architecture (e.g. initializing a BertForSequenceClassification model from a BertForPreTraining model).\n",
            "- This IS NOT expected if you are initializing BertModel from the checkpoint of a model that you expect to be exactly identical (initializing a BertForSequenceClassification model from a BertForSequenceClassification model).\n"
          ]
        },
        {
          "name": "stdout",
          "output_type": "stream",
          "text": [
            "Download pretrained Trial2Vec model, save to ./trial_search/pretrained_trial2vec.\n",
            "Load pretrained Trial2Vec model from ./trial_search/pretrained_trial2vec\n"
          ]
        },
        {
          "name": "stderr",
          "output_type": "stream",
          "text": [
            "/usr/local/lib/python3.10/dist-packages/trial2vec/model.py:836: FutureWarning: You are using `torch.load` with `weights_only=False` (the current default value), which uses the default pickle module implicitly. It is possible to construct malicious pickle data which will execute arbitrary code during unpickling (See https://github.com/pytorch/pytorch/blob/main/SECURITY.md#untrusted-models for more details). In a future release, the default value for `weights_only` will be flipped to `True`. This limits the functions that could be executed during unpickling. Arbitrary objects will no longer be allowed to be loaded via this mode unless they are explicitly allowlisted by the user via `torch.serialization.add_safe_globals`. We recommend you start setting `weights_only=True` for any use case where you don't have full control of the loaded file. Please open an issue on GitHub for any issues related to this experimental feature.\n",
            "  state_dict = torch.load(checkpoint_filename, map_location=torch.device('cpu'))\n"
          ]
        },
        {
          "name": "stdout",
          "output_type": "stream",
          "text": [
            "load predictor config file from ./trial_search/pretrained_trial2vec/model_config.json\n"
          ]
        },
        {
          "name": "stderr",
          "output_type": "stream",
          "text": [
            "Some weights of the model checkpoint at emilyalsentzer/Bio_ClinicalBERT were not used when initializing BertModel: ['cls.predictions.transform.dense.weight', 'cls.predictions.transform.dense.bias', 'cls.seq_relationship.weight', 'cls.predictions.transform.LayerNorm.weight', 'cls.predictions.bias', 'cls.predictions.decoder.weight', 'cls.seq_relationship.bias', 'cls.predictions.transform.LayerNorm.bias']\n",
            "- This IS expected if you are initializing BertModel from the checkpoint of a model trained on another task or with another architecture (e.g. initializing a BertForSequenceClassification model from a BertForPreTraining model).\n",
            "- This IS NOT expected if you are initializing BertModel from the checkpoint of a model that you expect to be exactly identical (initializing a BertForSequenceClassification model from a BertForSequenceClassification model).\n"
          ]
        },
        {
          "name": "stdout",
          "output_type": "stream",
          "text": [
            "Load pretrained Trial2Vec model from ./trial_search/pretrained_trial2vec\n",
            "load predictor config file from ./trial_search/pretrained_trial2vec/model_config.json\n"
          ]
        }
      ],
      "source": [
        "from trial2vec import Trial2Vec\n",
        "from trial2vec import download_embedding\n",
        "\n",
        "import torch\n",
        "import torch.nn.functional as F\n",
        "import json\n",
        "import matplotlib.pyplot as plt\n",
        "import seaborn as sns\n",
        "\n",
        "t2v_emb = download_embedding()\n",
        "\n",
        "model = Trial2Vec()\n",
        "model.from_pretrained('./trial_search/pretrained_trial2vec')\n"
      ]
    },
    {
      "cell_type": "code",
      "execution_count": null,
      "metadata": {
        "id": "1mCpebC4YDzq"
      },
      "outputs": [],
      "source": [
        "import re\n",
        "import matplotlib.pyplot as plt\n",
        "import seaborn as sns\n",
        "import torch\n",
        "import torch.nn.functional as F\n",
        "import json\n",
        "import random"
      ]
    },
    {
      "cell_type": "markdown",
      "metadata": {
        "id": "EYJT-ZcLYFyj"
      },
      "source": [
        "# Helper Functions"
      ]
    },
    {
      "cell_type": "code",
      "execution_count": 33,
      "metadata": {
        "id": "tnShsqDXQVEK"
      },
      "outputs": [],
      "source": [
        "def get_match_json(similarity_matrix, reference_features, candidate_features, threshold):\n",
        "\n",
        "    # Initialize lists to keep track of matches and unmatched features\n",
        "    matched_features = []\n",
        "    remaining_reference_features = reference_features.copy()\n",
        "    remaining_candidate_features = candidate_features.copy()\n",
        "\n",
        "    iteration = 1\n",
        "    while similarity_matrix.size(0) > 0 and similarity_matrix.size(1) > 0:\n",
        "\n",
        "        # Find the maximum similarity value\n",
        "        max_similarity, max_idx = torch.max(similarity_matrix, dim=1)\n",
        "        max_value, ref_idx = torch.max(max_similarity, dim=0)\n",
        "        max_value = max_value.item()\n",
        "        ref_idx = ref_idx.item()\n",
        "\n",
        "        if max_value < threshold or len(remaining_candidate_features) == 0:\n",
        "            break\n",
        "\n",
        "        # Find all pairs with the same maximum similarity value\n",
        "        candidates = [(i, max_idx[i].item()) for i in range(similarity_matrix.size(0)) if max_similarity[i].item() == max_value]\n",
        "\n",
        "        # Select one pair randomly\n",
        "        ref_idx, cand_idx = random.choice(candidates)\n",
        "\n",
        "        # Add the matched pair to the list of matched features\n",
        "        matched_pair = (remaining_reference_features[ref_idx], remaining_candidate_features[cand_idx])\n",
        "        matched_features.append(matched_pair)\n",
        "\n",
        "        # Remove the matched pair from the lists\n",
        "        del remaining_reference_features[ref_idx]\n",
        "        del remaining_candidate_features[cand_idx]\n",
        "\n",
        "        # Remove the corresponding row and column from the similarity matrix\n",
        "        similarity_matrix = torch.cat((similarity_matrix[:ref_idx], similarity_matrix[ref_idx+1:]), dim=0)\n",
        "        similarity_matrix = torch.cat((similarity_matrix[:, :cand_idx], similarity_matrix[:, cand_idx+1:]), dim=1)\n",
        "\n",
        "        iteration += 1\n",
        "\n",
        "    # Create the result dictionary\n",
        "    result = {\n",
        "        \"matched_features\": matched_features,\n",
        "        \"remaining_reference_features\": remaining_reference_features,\n",
        "        \"remaining_candidate_features\": remaining_candidate_features\n",
        "    }\n",
        "\n",
        "    return result\n",
        "\n",
        "def extract_elements_v2(s):\n",
        "  \"\"\"\n",
        "  Extracts elements enclosed within backticks (`) from a string.\n",
        "\n",
        "  Args:\n",
        "    s: The input string.\n",
        "\n",
        "  Returns:\n",
        "    A list of elements enclosed within backticks.\n",
        "  \"\"\"\n",
        "  pattern = r\"`(.*?)`\"\n",
        "  elements = re.findall(pattern, s)\n",
        "  return elements\n",
        "\n",
        "\n",
        "def plot_similarity_matrix(similarity_matrix_np, reference, candidate):\n",
        "\n",
        "    # Plotting the similarity matrix using seaborn's heatmap\n",
        "    plt.figure(figsize=(10, 8))\n",
        "    ax = sns.heatmap(similarity_matrix_np, annot=True, cmap='coolwarm', fmt=\".2f\",\n",
        "                     xticklabels=candidate, yticklabels=reference)\n",
        "    plt.title(\"Pairwise Cosine Similarities\")\n",
        "    plt.xlabel(\"Candidate Components\")\n",
        "    plt.ylabel(\"Reference Components\")\n",
        "    plt.show()\n",
        "\n",
        "def calculate_plot_and_return_matches(model, ref, can, threshold, show_plot=False):\n",
        "\n",
        "    reference = extract_elements_v2(ref)\n",
        "    candidate = extract_elements_v2(can)\n",
        "\n",
        "    # Assume model.sentence_vector is a method that returns a tensor of shape [n, 128] for n sentences\n",
        "    reference_tensor = model.sentence_vector(reference).cpu()\n",
        "    candidate_tensor = model.sentence_vector(candidate).cpu()\n",
        "\n",
        "    # Normalize the tensors\n",
        "    reference_tensor = F.normalize(reference_tensor, p=2, dim=1)\n",
        "    candidate_tensor = F.normalize(candidate_tensor, p=2, dim=1)\n",
        "\n",
        "    # Compute the similarity matrix\n",
        "    similarity_matrix = torch.mm(reference_tensor, candidate_tensor.transpose(0, 1))\n",
        "\n",
        "    result = get_match_json(similarity_matrix, reference, candidate, threshold)\n",
        "    if show_plot:\n",
        "      plot_similarity_matrix(similarity_matrix.numpy(), reference, candidate)\n",
        "\n",
        "    return json.dumps(result, indent=2), similarity_matrix\n",
        "\n",
        "###### For saving similarity matrix in db #######\n",
        "def encode_matrix(similarity_matrix):\n",
        "    import pickle, base64\n",
        "    similarity_matrix_serialized = pickle.dumps(similarity_matrix)\n",
        "    similarity_matrix_encoded = base64.b64encode(similarity_matrix_serialized).decode('utf-8')\n",
        "    return similarity_matrix_encoded\n",
        "\n",
        "def decode_matrix(similarity_matrix_encoded):\n",
        "    import pickle, base64\n",
        "    similarity_matrix_serialized = base64.b64decode(similarity_matrix_encoded)\n",
        "    similarity_matrix = pickle.loads(similarity_matrix_serialized)\n",
        "    return similarity_matrix\n",
        "###################################################\n",
        "\n",
        "def run_bert_score(gen_model_name, model, doc_id, reference_list, candidate_list, bert_scores):\n",
        "\n",
        "    result_07, _ = calculate_plot_and_return_matches(model, reference_list, candidate_list, threshold=0.7)\n",
        "\n",
        "    return result_07\n",
        "\n",
        "def match_to_score(matched_pairs, remaining_reference_features, remaining_candidate_features):\n",
        "    \"\"\"\n",
        "    Calculates precision, recall, and F1 score based on the given matched pairs and remaining features.\n",
        "\n",
        "    Parameters:\n",
        "    matched_pairs (list): A list of matched feature pairs.\n",
        "    remaining_reference_features (list): A list of remaining reference features.\n",
        "    remaining_candidate_features (list): A list of remaining candidate features.\n",
        "\n",
        "    Returns:\n",
        "    dict: A dictionary containing the precision, recall, and F1 score.\n",
        "    \"\"\"\n",
        "    precision = len(matched_pairs) / (len(matched_pairs) + len(remaining_candidate_features)) # TP/(TP+FP)\n",
        "    recall = len(matched_pairs) /  (len(matched_pairs) + len(remaining_reference_features)) #TP/(TP+FN)\n",
        "\n",
        "    if precision == 0 or recall == 0:\n",
        "        f1 = 0\n",
        "    else:\n",
        "        f1 = 2 * (precision * recall) / (precision + recall) # F1\n",
        "\n",
        "    return {\"precision\": precision, \"recall\": recall, \"f1\": f1}"
      ]
    },
    {
      "cell_type": "markdown",
      "metadata": {
        "id": "vfaGiY3fYYKP"
      },
      "source": [
        "# Load Data with generated matches from all 4 models and the reference (CT-PUB)"
      ]
    },
    {
      "cell_type": "code",
      "execution_count": 17,
      "metadata": {
        "id": "kJIdNwyIPyEF"
      },
      "outputs": [],
      "source": [
        "import pandas as pd\n",
        "data = pd.read_csv('CT-Pub-With-Examples-Corrected-allgen.csv')"
      ]
    },
    {
      "cell_type": "code",
      "execution_count": 18,
      "metadata": {
        "colab": {
          "base_uri": "https://localhost:8080/",
          "height": 372
        },
        "id": "zSz4SEpESF75",
        "outputId": "fbdfa2b0-0a5b-4242-b758-61ac1e6aefc4"
      },
      "outputs": [
        {
          "data": {
            "application/vnd.google.colaboratory.intrinsic+json": {
              "summary": "{\n  \"name\": \"data\",\n  \"rows\": 103,\n  \"fields\": [\n    {\n      \"column\": \"NCTId\",\n      \"properties\": {\n        \"dtype\": \"string\",\n        \"num_unique_values\": 103,\n        \"samples\": [\n          \"NCT01435603\",\n          \"NCT02620774\",\n          \"NCT02473926\"\n        ],\n        \"semantic_type\": \"\",\n        \"description\": \"\"\n      }\n    },\n    {\n      \"column\": \"BriefTitle\",\n      \"properties\": {\n        \"dtype\": \"string\",\n        \"num_unique_values\": 103,\n        \"samples\": [\n          \"Intervening in Diabetes With Healthy Eating, Activity, and Linkages To Healthcare - The I-D-HEALTH Study\",\n          \"Tissue Penetration of Ceftolozane/Tazobactam in Diabetic Patients With Lower Limb Infections\",\n          \"Targeting Physical Activity to Improve Cardiovascular Health in Type 2 Diabetes\"\n        ],\n        \"semantic_type\": \"\",\n        \"description\": \"\"\n      }\n    },\n    {\n      \"column\": \"EligibilityCriteria\",\n      \"properties\": {\n        \"dtype\": \"string\",\n        \"num_unique_values\": 103,\n        \"samples\": [\n          \"Inclusion Criteria:\\n\\n1. 18 years of age or older, AND\\n2. Body-mass index of \\u2265 24 kg/m2, AND\\n3. Documented Dysglycemia: Either by verification of laboratory test (Fasting Plasma Glucose 100-125 mg/dl OR 2-hour Post-challenge Plasma Glucose 140-199 mg/dl OR A1c 5.7%-10.9%) OR confirmation of Type 2 diabetes mellitus by self-report with verification\\n\\nExclusion Criteria (any of the following):\\n\\nDiseases/Conditions that could limit lifespan and/or increase risk with a lifestyle intervention:\\n\\n1. Significant cardiovascular disease:\\n\\n   * Uncontrolled hypertension: systolic blood pressure \\\\>180 mmHg or diastolic blood pressure \\\\>105 mmHg\\n   * A1c \\\\> 10.9%\\n   * Heart attack, stroke, or transient ischemic attack (TIA) in the past 6 months\\n   * Chest pain, dizziness, or fainting with physical exertion\\n2. Lung disease:\\n\\n   * Chronic obstructive airways disease or asthma requiring home oxygen\\n3. Pregnancy\\n4. Any other known condition that could limit ability to become physically active or limit life span to \\\\<5 years\\n\\nExclusions related to metabolism:\\n\\n1. Use of medications known to produce hyperglycemia\\n2. Known disease leading to abnormal glucose metabolism, other than diabetes mellitus, including Cushing's syndrome; acromegaly; pheochromocytoma; chronic pancreatitis\\n\\nExclusion for conditions or behaviors likely to affect the conduct of the study:\\n\\n1. Unable or unwilling to provide informed consent\\n2. Unable to communicate with the pertinent research study staff\\n3. Unable to read written English or Spanish\",\n          \"Inclusion Criteria:\\n\\n* Experimental: Type 1 or Type 2 diabetes and a mild to moderate (Grade 2 or 3) wound infection of the lower limb\\n* Active Comparator: Healthy Adult Volunteer\\n\\nExclusion Criteria:\\n\\nAll Participants:\\n\\n* Less than 18 years of age\\n* History of hypersensitivity to ceftolozane/tazobactam, piperacillin/tazobactam, or any \\u03b2-lactam antibiotic\\n* History of hypersensitivity to lidocaine or lidocaine derivatives\\n* Females who are pregnant or breastfeeding\\n* Concomitant receipt of any \\u03b2-lactams antibiotic\\n* Concomitant receipt of probenecid\\n* Reduced kidney function defined as creatinine clearance of \\u2264 50 mL/min\\n* Any other reason felt by the investigator to potentially affect the outcomes of the study\\n\\nExperimental Group Only:\\n\\n* No palpable pedal pulses present\\n* Participants likely to require multiple surgical interventions during the study period, which therefore could affect placement of the microdialysis catheter\\n\\nActive Comparator Group Only:\\n\\n* Positive urine drug screen (cocaine, tetrahydrocannabinol, opiates, benzodiazepines, and amphetamines)\\n* History of regular alcohol consumption exceeding 7 drinks/week for females or 14 drinks/week for men (1 drink = 5 ounces of wine or 12 ounces of beer or 1.5 ounces of hard liquor) within 6 months of screening.\\n* Use of tobacco- or nicotine-containing products in excess of the equivalence of 5 cigarettes per day.\\n* Use of prescription or nonprescription drugs, vitamins, or dietary supplements within 7 days or 5 half-lives (whichever is longer) prior to the first dose of study medication, with the exception of acetaminophen at doses of \\u2264 1 g/day. Herbal supplements, hormonal methods of contraception (including oral and transdermal contraceptives, injectable progesterone, progestin subdermal implants, progesterone-releasing intrauterine devices (IUDs), postcoital contraceptive methods), and hormone replacement therapy must be discontinued at least 14 days prior to the first dose of study medication. Depo-Provera\\u00ae must be discontinued at least 6 months prior to the first dose of study medication.\",\n          \"Inclusion Criteria:\\n\\n* Diagnosis of type 2 diabetes\\n* Sedentary individual, performing \\\\<20 minutes of physical activity on \\\\<3 days/week\\n\\nExclusion Criteria:\\n\\n* Dementia (Folstein Mini-Mental Status Exam \\\\<24) or clinical diagnosis\\n* Excessive fall risk: Can not hold semi-tandem stance for \\\\>10 seconds\\n* Type 2 diabetes-related safety concerns: Prior diabetic foot ulcer, Charcot foot, asymptomatic hypoglycemia\\n* Severely uncontrolled hypertension (BP \\\\>180/100)\\n* Excessive hearing or visual impairment for counseling\\n* Limited life expectancy: Active treatment for malignancy\\n* Performs regular physical activity \\\\>20 minutes on \\\\>3 days/week\"\n        ],\n        \"semantic_type\": \"\",\n        \"description\": \"\"\n      }\n    },\n    {\n      \"column\": \"BriefSummary\",\n      \"properties\": {\n        \"dtype\": \"string\",\n        \"num_unique_values\": 103,\n        \"samples\": [\n          \"The purpose of this study is to compare ways of giving advice and providing support to improve diet and physical activity in adult primary care patients with elevated body mass index and dysglycemia.\",\n          \"This study will determine the tissue penetration of ceftolozane/tazobactam (Zerbaxa, Merck \\\\& Co.), a novel \\u03b2-lactam/\\u03b2-lactamase combination antibiotic, into the extracellular, interstitial fluid of soft tissue in diabetic patients with lower limb wound infections. Penetration will be compared with a group of healthy volunteer control participants.\",\n          \"This study plans to learn more about physical activity and physical function in sedentary older adults with type 2 diabetes.\"\n        ],\n        \"semantic_type\": \"\",\n        \"description\": \"\"\n      }\n    },\n    {\n      \"column\": \"Conditions\",\n      \"properties\": {\n        \"dtype\": \"string\",\n        \"num_unique_values\": 79,\n        \"samples\": [\n          \"Type 2 Diabetes, Chronic Kidney Disease, \",\n          \"Atherosclerosis, Cardiovascular Diseases, Hypercholesterolemia, Hypertension, Diabetes Mellitus, Type 2, Diabetes Mellitus, Coronary Disease, \",\n          \"Type 2 Diabetes Mellitus, Cardiovascular Disease, Hypertension, Inadequate Glycaemic Control, \"\n        ],\n        \"semantic_type\": \"\",\n        \"description\": \"\"\n      }\n    },\n    {\n      \"column\": \"Interventions\",\n      \"properties\": {\n        \"dtype\": \"string\",\n        \"num_unique_values\": 101,\n        \"samples\": [\n          \"Sick-Day Protocol, Usual Care, \",\n          \"Closed-Loop Control System, Sensor-Augmented Pump (SAP), \",\n          \"Ceftolozane/tazobactam, Microdialysis Catheter Insertion, \"\n        ],\n        \"semantic_type\": \"\",\n        \"description\": \"\"\n      }\n    },\n    {\n      \"column\": \"PrimaryOutcomes\",\n      \"properties\": {\n        \"dtype\": \"string\",\n        \"num_unique_values\": 101,\n        \"samples\": [\n          \"Change in Renal Function From Baseline to Study Completion;, \",\n          \"Time Spent <70 mg/dL - Main Phase, Night Only, \",\n          \"Change in Interleukin-6 (Value at Week 8 Minus Value at Week 0), Change in Tumor Necrosis Factor-\\u03b1 (Value at Week 8 Minus Value at Week 0), Change in High Sensitivity C-reactive Protein (Value at Week 8 Minus Value at Week 0), Change in Lipopolysaccharide Binding Protein (Value at Week 8 Minus Value at Week 0), \"\n        ],\n        \"semantic_type\": \"\",\n        \"description\": \"\"\n      }\n    },\n    {\n      \"column\": \"TrialGroup\",\n      \"properties\": {\n        \"dtype\": \"category\",\n        \"num_unique_values\": 5,\n        \"samples\": [\n          \"obesity\",\n          \"chronic kidney disease\",\n          \"cancer\"\n        ],\n        \"semantic_type\": \"\",\n        \"description\": \"\"\n      }\n    },\n    {\n      \"column\": \"API_BaselineMeasures\",\n      \"properties\": {\n        \"dtype\": \"string\",\n        \"num_unique_values\": 96,\n        \"samples\": [\n          \"Age, Continuous, Sex: Female, Male, Race and Ethnicity Not Collected, Region of Enrollment, Height, Weight, Body Mass Index (BMI), Smoking Classification, Alcohol Classification, Duration of type 2 diabetes mellitus, Any Medication for Concurrent Condition, Number of Daily Doses of Medication (Concurrent Condition Medicine.), Total Number of Daily Tablets (Concurrent Condition Medicine.), Number of Doses of Drugs (Study drug.), Glycated hemoglobin A1c (HbA1c), DTR-QOL Total Score at Week-4, DTR-QOL Total Score at Week 0, DTR-QOL Total Score; Factor 1 at Week 0, DTR-QOL Total Score; Factor 2 at Week 0, DTR-QOL Total Score; Factor 3 at Week 0, DTR-QOL Total Score; Factor 4 at Week 0, DTSQ Total score, \",\n          \"Age, Continuous, Sex: Female, Male, Ethnicity (NIH/OMB), Race (NIH/OMB), Region of Enrollment, Height, Body Weight, BMI, SBP Categories, eGFR in Sub-group, Subjects in eGFR Sub-group at Baseline, \",\n          \"Age, Categorical, Age, Continuous, Sex: Female, Male, Race/Ethnicity, Customized, Region of Enrollment, Weight, \"\n        ],\n        \"semantic_type\": \"\",\n        \"description\": \"\"\n      }\n    },\n    {\n      \"column\": \"API_BaselineMeasures_Corrected\",\n      \"properties\": {\n        \"dtype\": \"string\",\n        \"num_unique_values\": 96,\n        \"samples\": [\n          \"`Age, Continuous`, `Sex: Female, Male`, `Race and Ethnicity Not Collected`, `Region of Enrollment`, `Height`, `Weight`, `Body Mass Index (BMI)`, `Smoking Classification`, `Alcohol Classification`, `Duration of type 2 diabetes mellitus`, `Any Medication for Concurrent Condition`, `Number of Daily Doses of Medication (Concurrent Condition Medicine.)`, `Total Number of Daily Tablets (Concurrent Condition Medicine.)`, `Number of Doses of Drugs (Study drug.)`, `Glycated hemoglobin A1c (HbA1c)`, `DTR-QOL Total Score at Week-4`, `DTR-QOL Total Score at Week 0`, `DTR-QOL Total Score; Factor 1 at Week 0`, `DTR-QOL Total Score; Factor 2 at Week 0`, `DTR-QOL Total Score; Factor 3 at Week 0`, `DTR-QOL Total Score; Factor 4 at Week 0`, `DTSQ Total score`, \",\n          \"`Age, Continuous`, `Sex: Female, Male`, `Ethnicity (NIH/OMB)`, `Race (NIH/OMB)`, `Region of Enrollment`, `Height`, `Body Weight`, `BMI`, `SBP Categories`, `eGFR in Sub-group`, `Subjects in eGFR Sub-group at Baseline`, \",\n          \"`Age, Categorical`, `Age, Continuous`, `Sex: Female, Male`, `Race/Ethnicity, Customized`, `Region of Enrollment`, `Weight`, \"\n        ],\n        \"semantic_type\": \"\",\n        \"description\": \"\"\n      }\n    },\n    {\n      \"column\": \"Paper_BaselineMeasures\",\n      \"properties\": {\n        \"dtype\": \"string\",\n        \"num_unique_values\": 102,\n        \"samples\": [\n          \"Age, Sex, Race, Ethnicity, Household Income, Weight, BMI, BMI (categorical), HbA1c- NGSP, HbA1c-IFCC, Systolic blood pressure, Total cholesterol, HDL cholesterol, Antiglycemic medications, Antihypertensive medications, Statin medications\",\n          \"Age, Male, ht, wt, Body mass index, Creatinine clearance, HbA1c, No. (%) of patients with PEDIS grade\",\n          \"Age, Gender, Race, Ethnicity, Weight, Body mass index, Hemoglobin A1c, Systolic blood pressure, Diastolic blood pressure, Depressive symptoms by CESD, Endurance Self-efficacy to walk without stopping (range: 0\\u20131,200), Self-efficacy: Motivation to conduct physical activity(PA) amidst competing demands (0\\u201360), Self-efficacy for PA in presence of diabetes (0\\u2013800), % participants with baseline functional impairment (SPPB< 12), Baseline fitness level (VO2peak, ml/kg/min)\"\n        ],\n        \"semantic_type\": \"\",\n        \"description\": \"\"\n      }\n    },\n    {\n      \"column\": \"Paper_BaselineMeasures_Corrected\",\n      \"properties\": {\n        \"dtype\": \"string\",\n        \"num_unique_values\": 102,\n        \"samples\": [\n          \"`Age`, `Sex`, `Race`, `Ethnicity`, `Household Income`, `Weight`, `BMI`, `BMI (categorical)`, `HbA1c- NGSP`, `HbA1c-IFCC`, `Systolic blood pressure`, `Total cholesterol`, `HDL cholesterol`, `Antiglycemic medications`, `Antihypertensive medications`, `Statin medications`, \",\n          \"`Age`, `Male`, `ht`, `wt`, `Body mass index`, `Creatinine clearance`, `HbA1c`, `No. (%) of patients with PEDIS grade`, \",\n          \"`Age`, `Gender`, `Race`, `Ethnicity`, `Weight`, `Body mass index`, `Hemoglobin A1c`, `Systolic blood pressure`, `Diastolic blood pressure`, `Depressive symptoms by CESD`, `Endurance Self-efficacy to walk without stopping (range: 0\\u20131,200)`, `Self-efficacy: Motivation to conduct physical activity(PA) amidst competing demands (0\\u201360)`, `Self-efficacy for PA in presence of diabetes (0\\u2013800)`, `% participants with baseline functional impairment (SPPB< 12)`, `Baseline fitness level (VO2peak`, `ml/kg/min)`, \"\n        ],\n        \"semantic_type\": \"\",\n        \"description\": \"\"\n      }\n    },\n    {\n      \"column\": \"gpt4o_zs_gen\",\n      \"properties\": {\n        \"dtype\": \"string\",\n        \"num_unique_values\": 103,\n        \"samples\": [\n          \"`Age`, `Sex`, `Race/Ethnicity`, `Body Mass Index (BMI)`, `Fasting Plasma Glucose`, `2-hour Post-challenge Plasma Glucose`, `Hemoglobin A1c (A1c)`, `Blood Pressure`, `History of Cardiovascular Disease`, `History of Lung Disease`, `Pregnancy Status`, `Medication Use`, `Physical Activity Level`, `Dietary Habits`, `Smoking Status`, `Alcohol Consumption`, `Education Level`, `Employment Status`, `Marital Status`, `Language Proficiency (English/Spanish)`\",\n          \"`Age`, `Gender`, `Body Mass Index (BMI)`, `Type of Diabetes (Type 1 or Type 2)`, `Duration of Diabetes`, `Severity of Wound Infection (Grade 2 or 3)`, `Creatinine Clearance`, `Presence of Palpable Pedal Pulses`, `History of Hypersensitivity to Antibiotics`, `Concomitant Medications`, `Alcohol Consumption`, `Tobacco Use`, `Use of Prescription or Nonprescription Drugs`, `Use of Vitamins or Dietary Supplements`, `Pregnancy or Breastfeeding Status`, `Kidney Function`\",\n          \"`Age`, `Gender`, `Body Mass Index (BMI)`, `Duration of Type 2 Diabetes`, `Baseline Physical Activity Level`, `Hemoglobin A1c (HbA1c)`, `Blood Pressure`, `Medication Use`, `Comorbid Conditions`, `Smoking Status`, `Alcohol Consumption`, `Dietary Habits`, `Socioeconomic Status`, `Education Level`, `Ethnicity`, `Baseline Physical Function`, `Cognitive Function`, `Fall Risk`, `Hearing and Visual Impairment`\"\n        ],\n        \"semantic_type\": \"\",\n        \"description\": \"\"\n      }\n    },\n    {\n      \"column\": \"gpt4o_ts_gen\",\n      \"properties\": {\n        \"dtype\": \"string\",\n        \"num_unique_values\": 103,\n        \"samples\": [\n          \"`Age`, `Sex`, `Race`, `Ethnicity`, `Education level`, `Employment status`, `BMI`, `Waist circumference`, `Systolic blood pressure`, `Diastolic blood pressure`, `Fasting plasma glucose`, `2-hour post-challenge plasma glucose`, `HbA1c`, `Physical activity level`, `Dietary intake`, `Medication use`, `Smoking status`, `Alcohol consumption`, `Comorbid conditions`,\",\n          \"`Age`, `Sex`, `Race`, `BMI`, `Type of diabetes (Type 1 or Type 2)`, `Duration of diabetes`, `HbA1c`, `Presence of lower limb wound infection`, `Severity of wound infection`, `Kidney function (creatinine clearance)`, `Concomitant medications`, `History of hypersensitivity to antibiotics`, `Smoking status`, `Alcohol consumption`, `Use of prescription or nonprescription drugs`,\",\n          \"`Age`, `Sex`, `Race`, `BMI`, `Duration of diabetes`, `HbA1c`, `Blood pressure`, `Medication use`, `Physical activity level`, `Comorbid conditions`, `Smoking status`, `Education level`, `Employment status`, `Waist circumference`, `Cholesterol levels`, `Triglyceride levels`, `Renal function`, `Liver function`, `Cardiovascular history`,\"\n        ],\n        \"semantic_type\": \"\",\n        \"description\": \"\"\n      }\n    },\n    {\n      \"column\": \"llama3_70b_it_zs_gen\",\n      \"properties\": {\n        \"dtype\": \"string\",\n        \"num_unique_values\": 103,\n        \"samples\": [\n          \"`Age`, `Sex`, `Body Mass Index (BMI)`, `Fasting Plasma Glucose`, `2-hour Post-challenge Plasma Glucose`, `A1c`, `Systolic Blood Pressure`, `Diastolic Blood Pressure`, `History of Cardiovascular Disease`, `History of Lung Disease`, `History of Pregnancy`, `Use of Medications Affecting Glucose Metabolism`, `History of Diabetes Mellitus`, `Race`, `Ethnicity`, `Education Level`, `Occupation`, `Smoking Status`.\",\n          \"`Age`, `Sex`, `Body Mass Index (BMI)`, `Diabetes Type (Type 1 or Type 2)`, `Duration of Diabetes`, `HbA1c Level`, `Wound Infection Grade`, `Creatinine Clearance`, `History of Hypersensitivity to \\u03b2-lactam Antibiotics`, `Concomitant Medications`, `Smoking Status`, `Alcohol Consumption`.\",\n          \"`Age`, `Sex`, `Body Mass Index (BMI)`, `Duration of type 2 diabetes`, `Hemoglobin A1c (HbA1c) level`, `Systolic Blood Pressure (SBP)`, `Diastolic Blood Pressure (DBP)`, `Mini-Mental Status Exam score`, `Folstein Mini-Mental Status Exam score`, `History of falls`, `History of diabetic foot ulcer`, `Charcot foot`, `Asymptomatic hypoglycemia`, `Hypertension diagnosis`, `Malignancy diagnosis`, `Current medications`, `Smoking status`, `Alcohol consumption`.\"\n        ],\n        \"semantic_type\": \"\",\n        \"description\": \"\"\n      }\n    },\n    {\n      \"column\": \"llama3_70b_it_ts_gen\",\n      \"properties\": {\n        \"dtype\": \"string\",\n        \"num_unique_values\": 103,\n        \"samples\": [\n          \"`Age`, `Sex`, `Race`, `Ethnicity`, `Education`, `Employment`, `Marital status`, `Body mass index`, `Waist circumference`, `Systolic blood pressure`, `Diastolic blood pressure`, `Fasting plasma glucose`, `HbA1c`, `Total cholesterol`, `Triglycerides`, `HDL cholesterol`, `LDL cholesterol`, `Smoking status`, `Physical activity level`, `Dietary habits`.\",\n          \"`Age`, `Sex`, `Diabetes type`, `Diabetes duration`, `HbA1c`, `Body mass index (BMI)`, `Wound size`, `Wound grade`, `Concomitant medications`, `Creatinine clearance`, `History of hypersensitivity to \\u03b2-lactam antibiotics`, `History of regular alcohol consumption`, `Tobacco use`, `Use of prescription or nonprescription drugs`.\",\n          \"`Age`, `Sex`, `Diabetes duration`, `HbA1c`, `Body mass index`, `Waist circumference`, `Systolic blood pressure`, `Diastolic blood pressure`, `Total cholesterol`, `Triglycerides`, `HDL cholesterol`, `LDL cholesterol`, `Smoking status`, `Medications`, `Comorbidities`, `Self-reported physical activity`, `Objective physical activity`.\"\n        ],\n        \"semantic_type\": \"\",\n        \"description\": \"\"\n      }\n    }\n  ]\n}",
              "type": "dataframe",
              "variable_name": "data"
            },
            "text/html": [
              "\n",
              "  <div id=\"df-31b7d915-8ac0-40a8-97f9-3658ea8b541b\" class=\"colab-df-container\">\n",
              "    <div>\n",
              "<style scoped>\n",
              "    .dataframe tbody tr th:only-of-type {\n",
              "        vertical-align: middle;\n",
              "    }\n",
              "\n",
              "    .dataframe tbody tr th {\n",
              "        vertical-align: top;\n",
              "    }\n",
              "\n",
              "    .dataframe thead th {\n",
              "        text-align: right;\n",
              "    }\n",
              "</style>\n",
              "<table border=\"1\" class=\"dataframe\">\n",
              "  <thead>\n",
              "    <tr style=\"text-align: right;\">\n",
              "      <th></th>\n",
              "      <th>NCTId</th>\n",
              "      <th>BriefTitle</th>\n",
              "      <th>EligibilityCriteria</th>\n",
              "      <th>BriefSummary</th>\n",
              "      <th>Conditions</th>\n",
              "      <th>Interventions</th>\n",
              "      <th>PrimaryOutcomes</th>\n",
              "      <th>TrialGroup</th>\n",
              "      <th>API_BaselineMeasures</th>\n",
              "      <th>API_BaselineMeasures_Corrected</th>\n",
              "      <th>Paper_BaselineMeasures</th>\n",
              "      <th>Paper_BaselineMeasures_Corrected</th>\n",
              "      <th>gpt4o_zs_gen</th>\n",
              "      <th>gpt4o_ts_gen</th>\n",
              "      <th>llama3_70b_it_zs_gen</th>\n",
              "      <th>llama3_70b_it_ts_gen</th>\n",
              "    </tr>\n",
              "  </thead>\n",
              "  <tbody>\n",
              "    <tr>\n",
              "      <th>0</th>\n",
              "      <td>NCT00000620</td>\n",
              "      <td>Action to Control Cardiovascular Risk in Diabe...</td>\n",
              "      <td>Inclusion Criteria:\\n\\n* Diagnosed with type 2...</td>\n",
              "      <td>The purpose of this study is to prevent major ...</td>\n",
              "      <td>Atherosclerosis, Cardiovascular Diseases, Hype...</td>\n",
              "      <td>Anti-hyperglycemic Agents, Anti-hypertensive A...</td>\n",
              "      <td>First Occurrence of a Major Cardiovascular Eve...</td>\n",
              "      <td>hypertension</td>\n",
              "      <td>Age, Continuous, Gender, Ethnicity (NIH/OMB), ...</td>\n",
              "      <td>`Age, Continuous`, `Gender`, `Ethnicity (NIH/O...</td>\n",
              "      <td>Age, Female sex, Median duration of diabetes, ...</td>\n",
              "      <td>`Age`, `Female sex`, `Median duration of diabe...</td>\n",
              "      <td>`Age`, `Sex`, `Race/Ethnicity`, `Body Mass Ind...</td>\n",
              "      <td>`Age`, `Female sex`, `Median duration of diabe...</td>\n",
              "      <td>`Age`, `Sex`, `Race`, `Ethnicity`, `Body Mass ...</td>\n",
              "      <td>`Age`, `Female sex`, `Median duration of diabe...</td>\n",
              "    </tr>\n",
              "    <tr>\n",
              "      <th>1</th>\n",
              "      <td>NCT00126737</td>\n",
              "      <td>Home-Based Exercise and Weight Control Program...</td>\n",
              "      <td>Inclusion Criteria:\\n\\n* Male \\&amp; female 50 yea...</td>\n",
              "      <td>The purpose of this study is to determine whet...</td>\n",
              "      <td>Chronic Diseases, Obesity, Osteoarthritis, Pain,</td>\n",
              "      <td>Weight Control Nutritional Program, Home-based...</td>\n",
              "      <td>WOMAC Function, Physical Scale SF-36v, Mental ...</td>\n",
              "      <td>obesity</td>\n",
              "      <td>Age, Continuous, Sex: Female, Male, Race/Ethni...</td>\n",
              "      <td>`Age, Continuous`, `Sex: Female, Male`, `Race/...</td>\n",
              "      <td>Age, Duration of OA, Kellgren-Lawrence Classif...</td>\n",
              "      <td>`Age`, `Duration of OA`, `Kellgren-Lawrence Cl...</td>\n",
              "      <td>`Age`, `Gender`, `Body Mass Index (BMI)`, `Kel...</td>\n",
              "      <td>`Age`, `Sex`, `BMI`, `Knee radiographs grade`,...</td>\n",
              "      <td>`Age`, `Gender`, `Body Mass Index (BMI)`, `Kel...</td>\n",
              "      <td>`Age`, `Sex`, `Body Mass Index (BMI)`, `Kellgr...</td>\n",
              "    </tr>\n",
              "    <tr>\n",
              "      <th>2</th>\n",
              "      <td>NCT00283686</td>\n",
              "      <td>HALT Progression of Polycystic Kidney Disease ...</td>\n",
              "      <td>Inclusion Criteria:\\n\\n* Diagnosis of ADPKD.\\n...</td>\n",
              "      <td>The efficacy of interruption of the renin-angi...</td>\n",
              "      <td>Kidney, Polycystic,</td>\n",
              "      <td>Lisinopril, Telmisartan, Placebo, Standard Blo...</td>\n",
              "      <td>Study A: Percent Annual Change in Total Kidney...</td>\n",
              "      <td>hypertension</td>\n",
              "      <td>Age, Continuous, Sex: Female, Male, Race (NIH/...</td>\n",
              "      <td>`Age, Continuous`, `Sex: Female, Male`, `Race ...</td>\n",
              "      <td>Age, Weight, Height, BMI, BSA, SBP, DBP, Liver...</td>\n",
              "      <td>`Age`, `Weight`, `Height`, `BMI`, `BSA`, `SBP`...</td>\n",
              "      <td>`Age`, `Gender`, `Race/Ethnicity`, `Baseline G...</td>\n",
              "      <td>`Age`, `Sex`, `Race`, `Ethnicity`, `BMI`, `Blo...</td>\n",
              "      <td>`Age`, `Sex`, `Race`, `Ethnicity`, `Body Mass ...</td>\n",
              "      <td>`Age`, `Sex`, `Race`, `Body mass index`, `Bloo...</td>\n",
              "    </tr>\n",
              "  </tbody>\n",
              "</table>\n",
              "</div>\n",
              "    <div class=\"colab-df-buttons\">\n",
              "\n",
              "  <div class=\"colab-df-container\">\n",
              "    <button class=\"colab-df-convert\" onclick=\"convertToInteractive('df-31b7d915-8ac0-40a8-97f9-3658ea8b541b')\"\n",
              "            title=\"Convert this dataframe to an interactive table.\"\n",
              "            style=\"display:none;\">\n",
              "\n",
              "  <svg xmlns=\"http://www.w3.org/2000/svg\" height=\"24px\" viewBox=\"0 -960 960 960\">\n",
              "    <path d=\"M120-120v-720h720v720H120Zm60-500h600v-160H180v160Zm220 220h160v-160H400v160Zm0 220h160v-160H400v160ZM180-400h160v-160H180v160Zm440 0h160v-160H620v160ZM180-180h160v-160H180v160Zm440 0h160v-160H620v160Z\"/>\n",
              "  </svg>\n",
              "    </button>\n",
              "\n",
              "  <style>\n",
              "    .colab-df-container {\n",
              "      display:flex;\n",
              "      gap: 12px;\n",
              "    }\n",
              "\n",
              "    .colab-df-convert {\n",
              "      background-color: #E8F0FE;\n",
              "      border: none;\n",
              "      border-radius: 50%;\n",
              "      cursor: pointer;\n",
              "      display: none;\n",
              "      fill: #1967D2;\n",
              "      height: 32px;\n",
              "      padding: 0 0 0 0;\n",
              "      width: 32px;\n",
              "    }\n",
              "\n",
              "    .colab-df-convert:hover {\n",
              "      background-color: #E2EBFA;\n",
              "      box-shadow: 0px 1px 2px rgba(60, 64, 67, 0.3), 0px 1px 3px 1px rgba(60, 64, 67, 0.15);\n",
              "      fill: #174EA6;\n",
              "    }\n",
              "\n",
              "    .colab-df-buttons div {\n",
              "      margin-bottom: 4px;\n",
              "    }\n",
              "\n",
              "    [theme=dark] .colab-df-convert {\n",
              "      background-color: #3B4455;\n",
              "      fill: #D2E3FC;\n",
              "    }\n",
              "\n",
              "    [theme=dark] .colab-df-convert:hover {\n",
              "      background-color: #434B5C;\n",
              "      box-shadow: 0px 1px 3px 1px rgba(0, 0, 0, 0.15);\n",
              "      filter: drop-shadow(0px 1px 2px rgba(0, 0, 0, 0.3));\n",
              "      fill: #FFFFFF;\n",
              "    }\n",
              "  </style>\n",
              "\n",
              "    <script>\n",
              "      const buttonEl =\n",
              "        document.querySelector('#df-31b7d915-8ac0-40a8-97f9-3658ea8b541b button.colab-df-convert');\n",
              "      buttonEl.style.display =\n",
              "        google.colab.kernel.accessAllowed ? 'block' : 'none';\n",
              "\n",
              "      async function convertToInteractive(key) {\n",
              "        const element = document.querySelector('#df-31b7d915-8ac0-40a8-97f9-3658ea8b541b');\n",
              "        const dataTable =\n",
              "          await google.colab.kernel.invokeFunction('convertToInteractive',\n",
              "                                                    [key], {});\n",
              "        if (!dataTable) return;\n",
              "\n",
              "        const docLinkHtml = 'Like what you see? Visit the ' +\n",
              "          '<a target=\"_blank\" href=https://colab.research.google.com/notebooks/data_table.ipynb>data table notebook</a>'\n",
              "          + ' to learn more about interactive tables.';\n",
              "        element.innerHTML = '';\n",
              "        dataTable['output_type'] = 'display_data';\n",
              "        await google.colab.output.renderOutput(dataTable, element);\n",
              "        const docLink = document.createElement('div');\n",
              "        docLink.innerHTML = docLinkHtml;\n",
              "        element.appendChild(docLink);\n",
              "      }\n",
              "    </script>\n",
              "  </div>\n",
              "\n",
              "\n",
              "<div id=\"df-98fa5b1b-f3c8-460a-a316-f5e3443f589d\">\n",
              "  <button class=\"colab-df-quickchart\" onclick=\"quickchart('df-98fa5b1b-f3c8-460a-a316-f5e3443f589d')\"\n",
              "            title=\"Suggest charts\"\n",
              "            style=\"display:none;\">\n",
              "\n",
              "<svg xmlns=\"http://www.w3.org/2000/svg\" height=\"24px\"viewBox=\"0 0 24 24\"\n",
              "     width=\"24px\">\n",
              "    <g>\n",
              "        <path d=\"M19 3H5c-1.1 0-2 .9-2 2v14c0 1.1.9 2 2 2h14c1.1 0 2-.9 2-2V5c0-1.1-.9-2-2-2zM9 17H7v-7h2v7zm4 0h-2V7h2v10zm4 0h-2v-4h2v4z\"/>\n",
              "    </g>\n",
              "</svg>\n",
              "  </button>\n",
              "\n",
              "<style>\n",
              "  .colab-df-quickchart {\n",
              "      --bg-color: #E8F0FE;\n",
              "      --fill-color: #1967D2;\n",
              "      --hover-bg-color: #E2EBFA;\n",
              "      --hover-fill-color: #174EA6;\n",
              "      --disabled-fill-color: #AAA;\n",
              "      --disabled-bg-color: #DDD;\n",
              "  }\n",
              "\n",
              "  [theme=dark] .colab-df-quickchart {\n",
              "      --bg-color: #3B4455;\n",
              "      --fill-color: #D2E3FC;\n",
              "      --hover-bg-color: #434B5C;\n",
              "      --hover-fill-color: #FFFFFF;\n",
              "      --disabled-bg-color: #3B4455;\n",
              "      --disabled-fill-color: #666;\n",
              "  }\n",
              "\n",
              "  .colab-df-quickchart {\n",
              "    background-color: var(--bg-color);\n",
              "    border: none;\n",
              "    border-radius: 50%;\n",
              "    cursor: pointer;\n",
              "    display: none;\n",
              "    fill: var(--fill-color);\n",
              "    height: 32px;\n",
              "    padding: 0;\n",
              "    width: 32px;\n",
              "  }\n",
              "\n",
              "  .colab-df-quickchart:hover {\n",
              "    background-color: var(--hover-bg-color);\n",
              "    box-shadow: 0 1px 2px rgba(60, 64, 67, 0.3), 0 1px 3px 1px rgba(60, 64, 67, 0.15);\n",
              "    fill: var(--button-hover-fill-color);\n",
              "  }\n",
              "\n",
              "  .colab-df-quickchart-complete:disabled,\n",
              "  .colab-df-quickchart-complete:disabled:hover {\n",
              "    background-color: var(--disabled-bg-color);\n",
              "    fill: var(--disabled-fill-color);\n",
              "    box-shadow: none;\n",
              "  }\n",
              "\n",
              "  .colab-df-spinner {\n",
              "    border: 2px solid var(--fill-color);\n",
              "    border-color: transparent;\n",
              "    border-bottom-color: var(--fill-color);\n",
              "    animation:\n",
              "      spin 1s steps(1) infinite;\n",
              "  }\n",
              "\n",
              "  @keyframes spin {\n",
              "    0% {\n",
              "      border-color: transparent;\n",
              "      border-bottom-color: var(--fill-color);\n",
              "      border-left-color: var(--fill-color);\n",
              "    }\n",
              "    20% {\n",
              "      border-color: transparent;\n",
              "      border-left-color: var(--fill-color);\n",
              "      border-top-color: var(--fill-color);\n",
              "    }\n",
              "    30% {\n",
              "      border-color: transparent;\n",
              "      border-left-color: var(--fill-color);\n",
              "      border-top-color: var(--fill-color);\n",
              "      border-right-color: var(--fill-color);\n",
              "    }\n",
              "    40% {\n",
              "      border-color: transparent;\n",
              "      border-right-color: var(--fill-color);\n",
              "      border-top-color: var(--fill-color);\n",
              "    }\n",
              "    60% {\n",
              "      border-color: transparent;\n",
              "      border-right-color: var(--fill-color);\n",
              "    }\n",
              "    80% {\n",
              "      border-color: transparent;\n",
              "      border-right-color: var(--fill-color);\n",
              "      border-bottom-color: var(--fill-color);\n",
              "    }\n",
              "    90% {\n",
              "      border-color: transparent;\n",
              "      border-bottom-color: var(--fill-color);\n",
              "    }\n",
              "  }\n",
              "</style>\n",
              "\n",
              "  <script>\n",
              "    async function quickchart(key) {\n",
              "      const quickchartButtonEl =\n",
              "        document.querySelector('#' + key + ' button');\n",
              "      quickchartButtonEl.disabled = true;  // To prevent multiple clicks.\n",
              "      quickchartButtonEl.classList.add('colab-df-spinner');\n",
              "      try {\n",
              "        const charts = await google.colab.kernel.invokeFunction(\n",
              "            'suggestCharts', [key], {});\n",
              "      } catch (error) {\n",
              "        console.error('Error during call to suggestCharts:', error);\n",
              "      }\n",
              "      quickchartButtonEl.classList.remove('colab-df-spinner');\n",
              "      quickchartButtonEl.classList.add('colab-df-quickchart-complete');\n",
              "    }\n",
              "    (() => {\n",
              "      let quickchartButtonEl =\n",
              "        document.querySelector('#df-98fa5b1b-f3c8-460a-a316-f5e3443f589d button');\n",
              "      quickchartButtonEl.style.display =\n",
              "        google.colab.kernel.accessAllowed ? 'block' : 'none';\n",
              "    })();\n",
              "  </script>\n",
              "</div>\n",
              "\n",
              "    </div>\n",
              "  </div>\n"
            ],
            "text/plain": [
              "         NCTId                                         BriefTitle  \\\n",
              "0  NCT00000620  Action to Control Cardiovascular Risk in Diabe...   \n",
              "1  NCT00126737  Home-Based Exercise and Weight Control Program...   \n",
              "2  NCT00283686  HALT Progression of Polycystic Kidney Disease ...   \n",
              "\n",
              "                                 EligibilityCriteria  \\\n",
              "0  Inclusion Criteria:\\n\\n* Diagnosed with type 2...   \n",
              "1  Inclusion Criteria:\\n\\n* Male \\& female 50 yea...   \n",
              "2  Inclusion Criteria:\\n\\n* Diagnosis of ADPKD.\\n...   \n",
              "\n",
              "                                        BriefSummary  \\\n",
              "0  The purpose of this study is to prevent major ...   \n",
              "1  The purpose of this study is to determine whet...   \n",
              "2  The efficacy of interruption of the renin-angi...   \n",
              "\n",
              "                                          Conditions  \\\n",
              "0  Atherosclerosis, Cardiovascular Diseases, Hype...   \n",
              "1  Chronic Diseases, Obesity, Osteoarthritis, Pain,    \n",
              "2                               Kidney, Polycystic,    \n",
              "\n",
              "                                       Interventions  \\\n",
              "0  Anti-hyperglycemic Agents, Anti-hypertensive A...   \n",
              "1  Weight Control Nutritional Program, Home-based...   \n",
              "2  Lisinopril, Telmisartan, Placebo, Standard Blo...   \n",
              "\n",
              "                                     PrimaryOutcomes    TrialGroup  \\\n",
              "0  First Occurrence of a Major Cardiovascular Eve...  hypertension   \n",
              "1  WOMAC Function, Physical Scale SF-36v, Mental ...       obesity   \n",
              "2  Study A: Percent Annual Change in Total Kidney...  hypertension   \n",
              "\n",
              "                                API_BaselineMeasures  \\\n",
              "0  Age, Continuous, Gender, Ethnicity (NIH/OMB), ...   \n",
              "1  Age, Continuous, Sex: Female, Male, Race/Ethni...   \n",
              "2  Age, Continuous, Sex: Female, Male, Race (NIH/...   \n",
              "\n",
              "                      API_BaselineMeasures_Corrected  \\\n",
              "0  `Age, Continuous`, `Gender`, `Ethnicity (NIH/O...   \n",
              "1  `Age, Continuous`, `Sex: Female, Male`, `Race/...   \n",
              "2  `Age, Continuous`, `Sex: Female, Male`, `Race ...   \n",
              "\n",
              "                              Paper_BaselineMeasures  \\\n",
              "0  Age, Female sex, Median duration of diabetes, ...   \n",
              "1  Age, Duration of OA, Kellgren-Lawrence Classif...   \n",
              "2  Age, Weight, Height, BMI, BSA, SBP, DBP, Liver...   \n",
              "\n",
              "                    Paper_BaselineMeasures_Corrected  \\\n",
              "0  `Age`, `Female sex`, `Median duration of diabe...   \n",
              "1  `Age`, `Duration of OA`, `Kellgren-Lawrence Cl...   \n",
              "2  `Age`, `Weight`, `Height`, `BMI`, `BSA`, `SBP`...   \n",
              "\n",
              "                                        gpt4o_zs_gen  \\\n",
              "0  `Age`, `Sex`, `Race/Ethnicity`, `Body Mass Ind...   \n",
              "1  `Age`, `Gender`, `Body Mass Index (BMI)`, `Kel...   \n",
              "2  `Age`, `Gender`, `Race/Ethnicity`, `Baseline G...   \n",
              "\n",
              "                                        gpt4o_ts_gen  \\\n",
              "0  `Age`, `Female sex`, `Median duration of diabe...   \n",
              "1  `Age`, `Sex`, `BMI`, `Knee radiographs grade`,...   \n",
              "2  `Age`, `Sex`, `Race`, `Ethnicity`, `BMI`, `Blo...   \n",
              "\n",
              "                                llama3_70b_it_zs_gen  \\\n",
              "0  `Age`, `Sex`, `Race`, `Ethnicity`, `Body Mass ...   \n",
              "1  `Age`, `Gender`, `Body Mass Index (BMI)`, `Kel...   \n",
              "2  `Age`, `Sex`, `Race`, `Ethnicity`, `Body Mass ...   \n",
              "\n",
              "                                llama3_70b_it_ts_gen  \n",
              "0  `Age`, `Female sex`, `Median duration of diabe...  \n",
              "1  `Age`, `Sex`, `Body Mass Index (BMI)`, `Kellgr...  \n",
              "2  `Age`, `Sex`, `Race`, `Body mass index`, `Bloo...  "
            ]
          },
          "execution_count": 18,
          "metadata": {},
          "output_type": "execute_result"
        }
      ],
      "source": [
        "data.head(3)"
      ]
    },
    {
      "cell_type": "markdown",
      "metadata": {
        "id": "VDNNiqAVYj-N"
      },
      "source": [
        "## Generate Matches based on BERT Score and \"ListMatch BERT\" algorithm mentioned in Paper Supplement."
      ]
    },
    {
      "cell_type": "code",
      "execution_count": 21,
      "metadata": {
        "colab": {
          "base_uri": "https://localhost:8080/"
        },
        "collapsed": true,
        "id": "9ZNh7R90R21V",
        "outputId": "a243cc18-2a39-4fd8-c61a-97946c05283b"
      },
      "outputs": [
        {
          "name": "stderr",
          "output_type": "stream",
          "text": [
            "2it [00:00, 12.61it/s]"
          ]
        },
        {
          "name": "stdout",
          "output_type": "stream",
          "text": [
            "1. Trial ID:NCT00000620\n",
            "2. Trial ID:NCT00126737\n",
            "3. Trial ID:NCT00283686\n"
          ]
        },
        {
          "name": "stderr",
          "output_type": "stream",
          "text": [
            "\r4it [00:00,  8.09it/s]"
          ]
        },
        {
          "name": "stdout",
          "output_type": "stream",
          "text": [
            "4. Trial ID:NCT00329030\n",
            "5. Trial ID:NCT00360334\n"
          ]
        },
        {
          "name": "stderr",
          "output_type": "stream",
          "text": [
            "7it [00:00,  8.98it/s]"
          ]
        },
        {
          "name": "stdout",
          "output_type": "stream",
          "text": [
            "6. Trial ID:NCT00395746\n",
            "7. Trial ID:NCT00419562\n"
          ]
        },
        {
          "name": "stderr",
          "output_type": "stream",
          "text": [
            "\r8it [00:00,  8.81it/s]"
          ]
        },
        {
          "name": "stdout",
          "output_type": "stream",
          "text": [
            "8. Trial ID:NCT00441064\n",
            "9. Trial ID:NCT00490529\n"
          ]
        },
        {
          "name": "stderr",
          "output_type": "stream",
          "text": [
            "10it [00:01,  8.59it/s]"
          ]
        },
        {
          "name": "stdout",
          "output_type": "stream",
          "text": [
            "10. Trial ID:NCT00552409\n",
            "11. Trial ID:NCT00556933\n"
          ]
        },
        {
          "name": "stderr",
          "output_type": "stream",
          "text": [
            "12it [00:01,  8.09it/s]"
          ]
        },
        {
          "name": "stdout",
          "output_type": "stream",
          "text": [
            "12. Trial ID:NCT00568178\n",
            "13. Trial ID:NCT00618072\n"
          ]
        },
        {
          "name": "stderr",
          "output_type": "stream",
          "text": [
            "14it [00:01,  7.12it/s]"
          ]
        },
        {
          "name": "stdout",
          "output_type": "stream",
          "text": [
            "14. Trial ID:NCT00713830\n",
            "15. Trial ID:NCT00751114\n"
          ]
        },
        {
          "name": "stderr",
          "output_type": "stream",
          "text": [
            "16it [00:01,  7.40it/s]"
          ]
        },
        {
          "name": "stdout",
          "output_type": "stream",
          "text": [
            "16. Trial ID:NCT00781937\n",
            "17. Trial ID:NCT00791479\n"
          ]
        },
        {
          "name": "stderr",
          "output_type": "stream",
          "text": [
            "19it [00:02,  8.55it/s]"
          ]
        },
        {
          "name": "stdout",
          "output_type": "stream",
          "text": [
            "18. Trial ID:NCT00793455\n",
            "19. Trial ID:NCT00819182\n"
          ]
        },
        {
          "name": "stderr",
          "output_type": "stream",
          "text": [
            "\r20it [00:02,  7.92it/s]"
          ]
        },
        {
          "name": "stdout",
          "output_type": "stream",
          "text": [
            "20. Trial ID:NCT00863746\n",
            "21. Trial ID:NCT00896181\n"
          ]
        },
        {
          "name": "stderr",
          "output_type": "stream",
          "text": [
            "22it [00:02,  7.44it/s]"
          ]
        },
        {
          "name": "stdout",
          "output_type": "stream",
          "text": [
            "22. Trial ID:NCT00917267\n",
            "23. Trial ID:NCT00949884\n"
          ]
        },
        {
          "name": "stderr",
          "output_type": "stream",
          "text": [
            "24it [00:03,  7.23it/s]"
          ]
        },
        {
          "name": "stdout",
          "output_type": "stream",
          "text": [
            "24. Trial ID:NCT00962247\n",
            "25. Trial ID:NCT00967668\n"
          ]
        },
        {
          "name": "stderr",
          "output_type": "stream",
          "text": [
            "26it [00:03,  7.35it/s]"
          ]
        },
        {
          "name": "stdout",
          "output_type": "stream",
          "text": [
            "26. Trial ID:NCT01000480\n",
            "27. Trial ID:NCT01031680\n"
          ]
        },
        {
          "name": "stderr",
          "output_type": "stream",
          "text": [
            "28it [00:03,  6.96it/s]"
          ]
        },
        {
          "name": "stdout",
          "output_type": "stream",
          "text": [
            "28. Trial ID:NCT01101880\n",
            "29. Trial ID:NCT01279109\n"
          ]
        },
        {
          "name": "stderr",
          "output_type": "stream",
          "text": [
            "\r29it [00:03,  6.30it/s]"
          ]
        },
        {
          "name": "stdout",
          "output_type": "stream",
          "text": [
            "30. Trial ID:NCT01357551\n"
          ]
        },
        {
          "name": "stderr",
          "output_type": "stream",
          "text": [
            "\r30it [00:04,  4.64it/s]"
          ]
        },
        {
          "name": "stdout",
          "output_type": "stream",
          "text": [
            "31. Trial ID:NCT01435603\n"
          ]
        },
        {
          "name": "stderr",
          "output_type": "stream",
          "text": [
            "\r31it [00:04,  3.92it/s]"
          ]
        },
        {
          "name": "stdout",
          "output_type": "stream",
          "text": [
            "32. Trial ID:NCT01441973\n"
          ]
        },
        {
          "name": "stderr",
          "output_type": "stream",
          "text": [
            "\r32it [00:04,  3.60it/s]"
          ]
        },
        {
          "name": "stdout",
          "output_type": "stream",
          "text": [
            "33. Trial ID:NCT01483560\n",
            "34. Trial ID:NCT01484873\n"
          ]
        },
        {
          "name": "stderr",
          "output_type": "stream",
          "text": [
            "\r34it [00:05,  4.20it/s]"
          ]
        },
        {
          "name": "stdout",
          "output_type": "stream",
          "text": [
            "35. Trial ID:NCT01496469\n"
          ]
        },
        {
          "name": "stderr",
          "output_type": "stream",
          "text": [
            "\r35it [00:05,  3.44it/s]"
          ]
        },
        {
          "name": "stdout",
          "output_type": "stream",
          "text": [
            "36. Trial ID:NCT01574157\n"
          ]
        },
        {
          "name": "stderr",
          "output_type": "stream",
          "text": [
            "37it [00:06,  3.02it/s]"
          ]
        },
        {
          "name": "stdout",
          "output_type": "stream",
          "text": [
            "37. Trial ID:NCT01592695\n"
          ]
        },
        {
          "name": "stderr",
          "output_type": "stream",
          "text": [
            "39it [00:06,  4.16it/s]"
          ]
        },
        {
          "name": "stdout",
          "output_type": "stream",
          "text": [
            "38. Trial ID:NCT01621178\n",
            "39. Trial ID:NCT01652729\n",
            "40. Trial ID:NCT01676220\n"
          ]
        },
        {
          "name": "stderr",
          "output_type": "stream",
          "text": [
            "41it [00:07,  5.28it/s]"
          ]
        },
        {
          "name": "stdout",
          "output_type": "stream",
          "text": [
            "41. Trial ID:NCT01686828\n",
            "42. Trial ID:NCT01757847\n"
          ]
        },
        {
          "name": "stderr",
          "output_type": "stream",
          "text": [
            "43it [00:07,  6.48it/s]"
          ]
        },
        {
          "name": "stdout",
          "output_type": "stream",
          "text": [
            "43. Trial ID:NCT01760239\n",
            "44. Trial ID:NCT01767155\n"
          ]
        },
        {
          "name": "stderr",
          "output_type": "stream",
          "text": [
            "\r44it [00:07,  6.95it/s]"
          ]
        },
        {
          "name": "stdout",
          "output_type": "stream",
          "text": [
            "45. Trial ID:NCT01768637\n"
          ]
        },
        {
          "name": "stderr",
          "output_type": "stream",
          "text": [
            "46it [00:07,  6.38it/s]"
          ]
        },
        {
          "name": "stdout",
          "output_type": "stream",
          "text": [
            "46. Trial ID:NCT01785849\n",
            "47. Trial ID:NCT01821352\n"
          ]
        },
        {
          "name": "stderr",
          "output_type": "stream",
          "text": [
            "48it [00:07,  7.64it/s]"
          ]
        },
        {
          "name": "stdout",
          "output_type": "stream",
          "text": [
            "48. Trial ID:NCT01862796\n",
            "49. Trial ID:NCT01973972\n"
          ]
        },
        {
          "name": "stderr",
          "output_type": "stream",
          "text": [
            "50it [00:08,  7.07it/s]"
          ]
        },
        {
          "name": "stdout",
          "output_type": "stream",
          "text": [
            "50. Trial ID:NCT01986881\n",
            "51. Trial ID:NCT02003963\n"
          ]
        },
        {
          "name": "stderr",
          "output_type": "stream",
          "text": [
            "52it [00:08,  7.55it/s]"
          ]
        },
        {
          "name": "stdout",
          "output_type": "stream",
          "text": [
            "52. Trial ID:NCT02008682\n",
            "53. Trial ID:NCT02038179\n"
          ]
        },
        {
          "name": "stderr",
          "output_type": "stream",
          "text": [
            "54it [00:08,  8.46it/s]"
          ]
        },
        {
          "name": "stdout",
          "output_type": "stream",
          "text": [
            "54. Trial ID:NCT02109029\n",
            "55. Trial ID:NCT02111980\n"
          ]
        },
        {
          "name": "stderr",
          "output_type": "stream",
          "text": [
            "56it [00:09,  7.70it/s]"
          ]
        },
        {
          "name": "stdout",
          "output_type": "stream",
          "text": [
            "56. Trial ID:NCT02137512\n",
            "57. Trial ID:NCT02214186\n"
          ]
        },
        {
          "name": "stderr",
          "output_type": "stream",
          "text": [
            "58it [00:09,  7.23it/s]"
          ]
        },
        {
          "name": "stdout",
          "output_type": "stream",
          "text": [
            "58. Trial ID:NCT02278471\n",
            "59. Trial ID:NCT02342639\n"
          ]
        },
        {
          "name": "stderr",
          "output_type": "stream",
          "text": [
            "\r59it [00:09,  7.44it/s]"
          ]
        },
        {
          "name": "stdout",
          "output_type": "stream",
          "text": [
            "60. Trial ID:NCT02358668\n"
          ]
        },
        {
          "name": "stderr",
          "output_type": "stream",
          "text": [
            "61it [00:09,  6.13it/s]"
          ]
        },
        {
          "name": "stdout",
          "output_type": "stream",
          "text": [
            "61. Trial ID:NCT02409329\n",
            "62. Trial ID:NCT02437084\n"
          ]
        },
        {
          "name": "stderr",
          "output_type": "stream",
          "text": [
            "63it [00:10,  6.66it/s]"
          ]
        },
        {
          "name": "stdout",
          "output_type": "stream",
          "text": [
            "63. Trial ID:NCT02473926\n",
            "64. Trial ID:NCT02531035\n"
          ]
        },
        {
          "name": "stderr",
          "output_type": "stream",
          "text": [
            "65it [00:10,  7.25it/s]"
          ]
        },
        {
          "name": "stdout",
          "output_type": "stream",
          "text": [
            "65. Trial ID:NCT02572882\n",
            "66. Trial ID:NCT02592421\n"
          ]
        },
        {
          "name": "stderr",
          "output_type": "stream",
          "text": [
            "\r67it [00:10,  8.11it/s]"
          ]
        },
        {
          "name": "stdout",
          "output_type": "stream",
          "text": [
            "67. Trial ID:NCT02602496\n",
            "68. Trial ID:NCT02620774\n"
          ]
        },
        {
          "name": "stderr",
          "output_type": "stream",
          "text": [
            "69it [00:10,  8.29it/s]"
          ]
        },
        {
          "name": "stdout",
          "output_type": "stream",
          "text": [
            "69. Trial ID:NCT02623348\n",
            "70. Trial ID:NCT02643966\n"
          ]
        },
        {
          "name": "stderr",
          "output_type": "stream",
          "text": [
            "\r70it [00:10,  8.25it/s]"
          ]
        },
        {
          "name": "stdout",
          "output_type": "stream",
          "text": [
            "71. Trial ID:NCT02646982\n"
          ]
        },
        {
          "name": "stderr",
          "output_type": "stream",
          "text": [
            "72it [00:11,  6.98it/s]"
          ]
        },
        {
          "name": "stdout",
          "output_type": "stream",
          "text": [
            "72. Trial ID:NCT02680574\n",
            "73. Trial ID:NCT02692040\n"
          ]
        },
        {
          "name": "stderr",
          "output_type": "stream",
          "text": [
            "74it [00:11,  7.80it/s]"
          ]
        },
        {
          "name": "stdout",
          "output_type": "stream",
          "text": [
            "74. Trial ID:NCT02692560\n",
            "75. Trial ID:NCT02698891\n"
          ]
        },
        {
          "name": "stderr",
          "output_type": "stream",
          "text": [
            "76it [00:11,  8.25it/s]"
          ]
        },
        {
          "name": "stdout",
          "output_type": "stream",
          "text": [
            "76. Trial ID:NCT02738086\n",
            "77. Trial ID:NCT02776553\n"
          ]
        },
        {
          "name": "stderr",
          "output_type": "stream",
          "text": [
            "78it [00:12,  6.80it/s]"
          ]
        },
        {
          "name": "stdout",
          "output_type": "stream",
          "text": [
            "78. Trial ID:NCT02790437\n",
            "79. Trial ID:NCT02809183\n"
          ]
        },
        {
          "name": "stderr",
          "output_type": "stream",
          "text": [
            "80it [00:12,  6.86it/s]"
          ]
        },
        {
          "name": "stdout",
          "output_type": "stream",
          "text": [
            "80. Trial ID:NCT02833857\n",
            "81. Trial ID:NCT02834663\n"
          ]
        },
        {
          "name": "stderr",
          "output_type": "stream",
          "text": [
            "82it [00:12,  7.44it/s]"
          ]
        },
        {
          "name": "stdout",
          "output_type": "stream",
          "text": [
            "82. Trial ID:NCT02836873\n",
            "83. Trial ID:NCT02846779\n"
          ]
        },
        {
          "name": "stderr",
          "output_type": "stream",
          "text": [
            "84it [00:12,  7.09it/s]"
          ]
        },
        {
          "name": "stdout",
          "output_type": "stream",
          "text": [
            "84. Trial ID:NCT02892149\n",
            "85. Trial ID:NCT03014479\n"
          ]
        },
        {
          "name": "stderr",
          "output_type": "stream",
          "text": [
            "86it [00:13,  7.71it/s]"
          ]
        },
        {
          "name": "stdout",
          "output_type": "stream",
          "text": [
            "86. Trial ID:NCT03028948\n",
            "87. Trial ID:NCT03141905\n"
          ]
        },
        {
          "name": "stderr",
          "output_type": "stream",
          "text": [
            "88it [00:13,  7.73it/s]"
          ]
        },
        {
          "name": "stdout",
          "output_type": "stream",
          "text": [
            "88. Trial ID:NCT03195140\n",
            "89. Trial ID:NCT03210220\n"
          ]
        },
        {
          "name": "stderr",
          "output_type": "stream",
          "text": [
            "90it [00:13,  8.02it/s]"
          ]
        },
        {
          "name": "stdout",
          "output_type": "stream",
          "text": [
            "90. Trial ID:NCT03223649\n",
            "91. Trial ID:NCT03242252\n"
          ]
        },
        {
          "name": "stderr",
          "output_type": "stream",
          "text": [
            "92it [00:13,  8.42it/s]"
          ]
        },
        {
          "name": "stdout",
          "output_type": "stream",
          "text": [
            "92. Trial ID:NCT03322631\n",
            "93. Trial ID:NCT03371108\n"
          ]
        },
        {
          "name": "stderr",
          "output_type": "stream",
          "text": [
            "94it [00:14,  8.05it/s]"
          ]
        },
        {
          "name": "stdout",
          "output_type": "stream",
          "text": [
            "94. Trial ID:NCT03394027\n",
            "95. Trial ID:NCT03546270\n"
          ]
        },
        {
          "name": "stderr",
          "output_type": "stream",
          "text": [
            "96it [00:14,  8.16it/s]"
          ]
        },
        {
          "name": "stdout",
          "output_type": "stream",
          "text": [
            "96. Trial ID:NCT03674112\n",
            "97. Trial ID:NCT03675360\n"
          ]
        },
        {
          "name": "stderr",
          "output_type": "stream",
          "text": [
            "98it [00:14,  7.10it/s]"
          ]
        },
        {
          "name": "stdout",
          "output_type": "stream",
          "text": [
            "98. Trial ID:NCT03708770\n",
            "99. Trial ID:NCT03890588\n"
          ]
        },
        {
          "name": "stderr",
          "output_type": "stream",
          "text": [
            "100it [00:14,  6.96it/s]"
          ]
        },
        {
          "name": "stdout",
          "output_type": "stream",
          "text": [
            "100. Trial ID:NCT03987919\n",
            "101. Trial ID:NCT04280783\n",
            "102. Trial ID:NCT04392375\n"
          ]
        },
        {
          "name": "stderr",
          "output_type": "stream",
          "text": [
            "103it [00:15,  6.73it/s]"
          ]
        },
        {
          "name": "stdout",
          "output_type": "stream",
          "text": [
            "103. Trial ID:NCT04823949\n"
          ]
        },
        {
          "name": "stderr",
          "output_type": "stream",
          "text": [
            "\n"
          ]
        }
      ],
      "source": [
        "from tqdm import tqdm\n",
        "from time import sleep\n",
        "\n",
        "#bert_scores = pd.DataFrame(columns=['NCTId', 'Model', 'bert-score-matches-07'])\n",
        "bert_scores = pd.DataFrame()\n",
        "bert_scores['NCTId'] = data['NCTId']\n",
        "\n",
        "threeshot_example_ids = ['NCT00000620', 'NCT01483560', 'NCT04280783']\n",
        "\n",
        "for index, row in tqdm(data.iterrows()):\n",
        "\n",
        "    doc_id = row['NCTId']\n",
        "    reference = row['Paper_BaselineMeasures_Corrected']\n",
        "\n",
        "    print(f\"{index+1}. Trial ID:{row['NCTId']}\")\n",
        "\n",
        "    if doc_id in threeshot_example_ids:\n",
        "        continue\n",
        "\n",
        "    #run_bert_score(gen_model_name, model, doc_id, reference_list, candidate_list, bert_scores):\n",
        "\n",
        "    #eval gpt4-omni-zs\n",
        "    candidate = row['gpt4o_zs_gen']\n",
        "    bert_matches = run_bert_score('gpt4-omni-zs', model, doc_id, reference, candidate, bert_scores)\n",
        "    bert_scores.at[index, 'gpt4o_zs_gen_matches'] = bert_matches\n",
        "\n",
        "    #eval gpt4-omni-ts\n",
        "    candidate = row['gpt4o_ts_gen']\n",
        "    bert_matches = run_bert_score('gpt4-omni-ts', model, doc_id, reference, candidate, bert_scores)\n",
        "    bert_scores.at[index, 'gpt4o_ts_gen_matches'] = bert_matches\n",
        "\n",
        "    #eval llamma3-70b-in-zs\n",
        "    candidate = row['llama3_70b_it_zs_gen']\n",
        "    bert_matches = run_bert_score('llama3-70b-in-zs', model, doc_id, reference, candidate, bert_scores)\n",
        "    bert_scores.at[index, 'llama3_70b_it_zs_gen_matches'] = bert_matches\n",
        "\n",
        "    #eval llamma3-70b-in-ts\n",
        "    candidate = row['llama3_70b_it_ts_gen']\n",
        "    bert_matches = run_bert_score('llama3-70b-in-ts', model, doc_id, reference, candidate, bert_scores)\n",
        "    bert_scores.at[index, 'llama3_70b_it_ts_gen_matches'] = bert_matches\n",
        "\n",
        "    #break\n",
        "\n",
        "#save the matches\n",
        "bert_scores.to_csv('CT-Pub-With-Examples-Corrected-allbert07eval.csv', index=False)\n",
        "\n"
      ]
    },
    {
      "cell_type": "code",
      "execution_count": 25,
      "metadata": {
        "colab": {
          "base_uri": "https://localhost:8080/",
          "height": 206
        },
        "id": "9g8-tJENWSNQ",
        "outputId": "3cd1e8b6-0a03-45d9-b72e-305767e84267"
      },
      "outputs": [
        {
          "data": {
            "application/vnd.google.colaboratory.intrinsic+json": {
              "summary": "{\n  \"name\": \"bert_scores\",\n  \"rows\": 103,\n  \"fields\": [\n    {\n      \"column\": \"NCTId\",\n      \"properties\": {\n        \"dtype\": \"string\",\n        \"num_unique_values\": 103,\n        \"samples\": [\n          \"NCT01435603\",\n          \"NCT02620774\",\n          \"NCT02473926\"\n        ],\n        \"semantic_type\": \"\",\n        \"description\": \"\"\n      }\n    },\n    {\n      \"column\": \"gpt4o_zs_gen_matches\",\n      \"properties\": {\n        \"dtype\": \"string\",\n        \"num_unique_values\": 101,\n        \"samples\": [\n          \"{\\n  \\\"matched_features\\\": [\\n    [\\n      \\\"Marital status\\\",\\n      \\\"Marital Status\\\"\\n    ],\\n    [\\n      \\\"Age\\\",\\n      \\\"Age\\\"\\n    ],\\n    [\\n      \\\"Level of Education\\\",\\n      \\\"Education Level\\\"\\n    ],\\n    [\\n      \\\"Sex\\\",\\n      \\\"Gender\\\"\\n    ],\\n    [\\n      \\\"Level of comfort using the internet\\\",\\n      \\\"Access to Internet\\\"\\n    ]\\n  ],\\n  \\\"remaining_reference_features\\\": [\\n    \\\"Race/Ethnicity\\\",\\n    \\\"Annual household income\\\",\\n    \\\"Frequency of using the internet\\\",\\n    \\\"Number of melanoma risk\\\",\\n    \\\"Time since Melanoma\\\",\\n    \\\"14 to 24 months disease stage\\\"\\n  ],\\n  \\\"remaining_candidate_features\\\": [\\n    \\\"Race\\\",\\n    \\\"Ethnicity\\\",\\n    \\\"Employment Status\\\",\\n    \\\"Income Level\\\",\\n    \\\"Stage of Melanoma\\\",\\n    \\\"Time Since Diagnosis\\\",\\n    \\\"Time Since Surgical Treatment\\\",\\n    \\\"Baseline Sun Protection Behavior\\\",\\n    \\\"Baseline Skin Self-Examination Frequency\\\",\\n    \\\"Computer Literacy\\\",\\n    \\\"English Proficiency\\\"\\n  ]\\n}\",\n          \"{\\n  \\\"matched_features\\\": [\\n    [\\n      \\\"Thrombocytopenia\\\",\\n      \\\"Thrombocytopenia\\\"\\n    ],\\n    [\\n      \\\"Gestational Age\\\",\\n      \\\"Gestational Age\\\"\\n    ],\\n    [\\n      \\\"Age\\\",\\n      \\\"Age\\\"\\n    ],\\n    [\\n      \\\"Impaired liver function\\\",\\n      \\\"Impaired Liver Function\\\"\\n    ],\\n    [\\n      \\\"Diastolic pressure\\\",\\n      \\\"Diastolic Blood Pressure\\\"\\n    ],\\n    [\\n      \\\"Systolic pressure\\\",\\n      \\\"Systolic Blood Pressure\\\"\\n    ],\\n    [\\n      \\\"Pulmonary edema,Cerebral or visual disturbances\\\",\\n      \\\"Cerebral or Visual Disturbances\\\"\\n    ],\\n    [\\n      \\\"Right upper quadrant or epigastric pain\\\",\\n      \\\"Epigastric Pain\\\"\\n    ]\\n  ],\\n  \\\"remaining_reference_features\\\": [\\n    \\\"BMI\\\",\\n    \\\"Twin Pregnancy\\\",\\n    \\\"Chronic Hypertension\\\",\\n    \\\"Previous Preclampsia\\\",\\n    \\\"Persistent high blood pressure\\\",\\n    \\\"Antihypertensive drugs used before hospital admission\\\",\\n    \\\"Diabetes mellitus\\\",\\n    \\\"Anesthesia and surgical time\\\"\\n  ],\\n  \\\"remaining_candidate_features\\\": [\\n    \\\"Body Mass Index (BMI)\\\",\\n    \\\"Proteinuria\\\",\\n    \\\"Oliguria\\\",\\n    \\\"Pulmonary Edema\\\",\\n    \\\"Hepatic Rupture\\\",\\n    \\\"Hemolysis\\\",\\n    \\\"Elevated Liver Enzymes\\\",\\n    \\\"Low Platelet Count (HELLP) Syndrome\\\",\\n    \\\"Evidence of Fetal Compromise\\\",\\n    \\\"Serum Creatinine Levels\\\",\\n    \\\"Previous Kidney Disease\\\",\\n    \\\"Contraindication to Spinal Anesthesia\\\"\\n  ]\\n}\",\n          \"{\\n  \\\"matched_features\\\": [\\n    [\\n      \\\"Age\\\",\\n      \\\"Age\\\"\\n    ],\\n    [\\n      \\\"Creatinine clearance\\\",\\n      \\\"Creatinine Clearance\\\"\\n    ],\\n    [\\n      \\\"Body mass index\\\",\\n      \\\"Body Mass Index (BMI)\\\"\\n    ],\\n    [\\n      \\\"Male\\\",\\n      \\\"Gender\\\"\\n    ]\\n  ],\\n  \\\"remaining_reference_features\\\": [\\n    \\\"ht\\\",\\n    \\\"wt\\\",\\n    \\\"HbA1c\\\",\\n    \\\"No. (%) of patients with PEDIS grade\\\"\\n  ],\\n  \\\"remaining_candidate_features\\\": [\\n    \\\"Type of Diabetes (Type 1 or Type 2)\\\",\\n    \\\"Duration of Diabetes\\\",\\n    \\\"Severity of Wound Infection (Grade 2 or 3)\\\",\\n    \\\"Presence of Palpable Pedal Pulses\\\",\\n    \\\"History of Hypersensitivity to Antibiotics\\\",\\n    \\\"Concomitant Medications\\\",\\n    \\\"Alcohol Consumption\\\",\\n    \\\"Tobacco Use\\\",\\n    \\\"Use of Prescription or Nonprescription Drugs\\\",\\n    \\\"Use of Vitamins or Dietary Supplements\\\",\\n    \\\"Pregnancy or Breastfeeding Status\\\",\\n    \\\"Kidney Function\\\"\\n  ]\\n}\"\n        ],\n        \"semantic_type\": \"\",\n        \"description\": \"\"\n      }\n    },\n    {\n      \"column\": \"gpt4o_ts_gen_matches\",\n      \"properties\": {\n        \"dtype\": \"string\",\n        \"num_unique_values\": 101,\n        \"samples\": [\n          \"{\\n  \\\"matched_features\\\": [\\n    [\\n      \\\"Sex\\\",\\n      \\\"Sex\\\"\\n    ],\\n    [\\n      \\\"Age\\\",\\n      \\\"Age\\\"\\n    ],\\n    [\\n      \\\"Marital status\\\",\\n      \\\"Marital status\\\"\\n    ],\\n    [\\n      \\\"Level of Education\\\",\\n      \\\"Education\\\"\\n    ],\\n    [\\n      \\\"Frequency of using the internet\\\",\\n      \\\"Internet access\\\"\\n    ]\\n  ],\\n  \\\"remaining_reference_features\\\": [\\n    \\\"Race/Ethnicity\\\",\\n    \\\"Annual household income\\\",\\n    \\\"Level of comfort using the internet\\\",\\n    \\\"Number of melanoma risk\\\",\\n    \\\"Time since Melanoma\\\",\\n    \\\"14 to 24 months disease stage\\\"\\n  ],\\n  \\\"remaining_candidate_features\\\": [\\n    \\\"Race\\\",\\n    \\\"Employment status\\\",\\n    \\\"Stage of melanoma\\\",\\n    \\\"Time since diagnosis\\\",\\n    \\\"Time since surgical treatment\\\",\\n    \\\"Adherence to skin self-examination\\\",\\n    \\\"Adherence to sun protection behaviors\\\"\\n  ]\\n}\",\n          \"{\\n  \\\"matched_features\\\": [\\n    [\\n      \\\"Thrombocytopenia\\\",\\n      \\\"Thrombocytopenia\\\"\\n    ],\\n    [\\n      \\\"BMI\\\",\\n      \\\"BMI\\\"\\n    ],\\n    [\\n      \\\"Gestational Age\\\",\\n      \\\"Gestational age\\\"\\n    ],\\n    [\\n      \\\"Age\\\",\\n      \\\"Age\\\"\\n    ],\\n    [\\n      \\\"Impaired liver function\\\",\\n      \\\"Impaired liver function\\\"\\n    ],\\n    [\\n      \\\"Diastolic pressure\\\",\\n      \\\"Diastolic blood pressure\\\"\\n    ],\\n    [\\n      \\\"Systolic pressure\\\",\\n      \\\"Systolic blood pressure\\\"\\n    ],\\n    [\\n      \\\"Pulmonary edema,Cerebral or visual disturbances\\\",\\n      \\\"Cerebral or visual disturbances\\\"\\n    ],\\n    [\\n      \\\"Right upper quadrant or epigastric pain\\\",\\n      \\\"Epigastric pain\\\"\\n    ]\\n  ],\\n  \\\"remaining_reference_features\\\": [\\n    \\\"Twin Pregnancy\\\",\\n    \\\"Chronic Hypertension\\\",\\n    \\\"Previous Preclampsia\\\",\\n    \\\"Persistent high blood pressure\\\",\\n    \\\"Antihypertensive drugs used before hospital admission\\\",\\n    \\\"Diabetes mellitus\\\",\\n    \\\"Anesthesia and surgical time\\\"\\n  ],\\n  \\\"remaining_candidate_features\\\": [\\n    \\\"Proteinuria\\\",\\n    \\\"Oliguria\\\",\\n    \\\"Pulmonary edema\\\",\\n    \\\"Hepatic rupture\\\",\\n    \\\"HELLP syndrome\\\",\\n    \\\"Evidence of fetal compromise\\\",\\n    \\\"Serum creatinine\\\",\\n    \\\"Cystatin C\\\",\\n    \\\"Neutrophil gelatinase-associated lipocalin (NGAL)\\\"\\n  ]\\n}\",\n          \"{\\n  \\\"matched_features\\\": [\\n    [\\n      \\\"HbA1c\\\",\\n      \\\"HbA1c\\\"\\n    ],\\n    [\\n      \\\"Age\\\",\\n      \\\"Age\\\"\\n    ],\\n    [\\n      \\\"Male\\\",\\n      \\\"Sex\\\"\\n    ]\\n  ],\\n  \\\"remaining_reference_features\\\": [\\n    \\\"ht\\\",\\n    \\\"wt\\\",\\n    \\\"Body mass index\\\",\\n    \\\"Creatinine clearance\\\",\\n    \\\"No. (%) of patients with PEDIS grade\\\"\\n  ],\\n  \\\"remaining_candidate_features\\\": [\\n    \\\"Race\\\",\\n    \\\"BMI\\\",\\n    \\\"Type of diabetes (Type 1 or Type 2)\\\",\\n    \\\"Duration of diabetes\\\",\\n    \\\"Presence of lower limb wound infection\\\",\\n    \\\"Severity of wound infection\\\",\\n    \\\"Kidney function (creatinine clearance)\\\",\\n    \\\"Concomitant medications\\\",\\n    \\\"History of hypersensitivity to antibiotics\\\",\\n    \\\"Smoking status\\\",\\n    \\\"Alcohol consumption\\\",\\n    \\\"Use of prescription or nonprescription drugs\\\"\\n  ]\\n}\"\n        ],\n        \"semantic_type\": \"\",\n        \"description\": \"\"\n      }\n    },\n    {\n      \"column\": \"llama3_70b_it_zs_gen_matches\",\n      \"properties\": {\n        \"dtype\": \"string\",\n        \"num_unique_values\": 101,\n        \"samples\": [\n          \"{\\n  \\\"matched_features\\\": [\\n    [\\n      \\\"Age\\\",\\n      \\\"age\\\"\\n    ],\\n    [\\n      \\\"Marital status\\\",\\n      \\\"marital status\\\"\\n    ],\\n    [\\n      \\\"Sex\\\",\\n      \\\"sex\\\"\\n    ],\\n    [\\n      \\\"Level of Education\\\",\\n      \\\"education level\\\"\\n    ],\\n    [\\n      \\\"Frequency of using the internet\\\",\\n      \\\"internet access and proficiency\\\"\\n    ]\\n  ],\\n  \\\"remaining_reference_features\\\": [\\n    \\\"Race/Ethnicity\\\",\\n    \\\"Annual household income\\\",\\n    \\\"Level of comfort using the internet\\\",\\n    \\\"Number of melanoma risk\\\",\\n    \\\"Time since Melanoma\\\",\\n    \\\"14 to 24 months disease stage\\\"\\n  ],\\n  \\\"remaining_candidate_features\\\": [\\n    \\\"race\\\",\\n    \\\"ethnicity\\\",\\n    \\\"employment status\\\",\\n    \\\"income level\\\",\\n    \\\"melanoma stage\\\",\\n    \\\"time since diagnosis\\\",\\n    \\\"time since surgical treatment\\\",\\n    \\\"English language proficiency\\\",\\n    \\\"comorbidities\\\",\\n    \\\"current medications\\\",\\n    \\\"smoking status\\\",\\n    \\\"alcohol consumption\\\",\\n    \\\"sun protection behavior at baseline\\\",\\n    \\\"skin self-examination behavior at baseline\\\"\\n  ]\\n}\",\n          \"{\\n  \\\"matched_features\\\": [\\n    [\\n      \\\"Thrombocytopenia\\\",\\n      \\\"Thrombocytopenia\\\"\\n    ],\\n    [\\n      \\\"Gestational Age\\\",\\n      \\\"Gestational Age\\\"\\n    ],\\n    [\\n      \\\"Age\\\",\\n      \\\"Age\\\"\\n    ],\\n    [\\n      \\\"Impaired liver function\\\",\\n      \\\"Impaired Liver Function\\\"\\n    ],\\n    [\\n      \\\"Diastolic pressure\\\",\\n      \\\"Diastolic Blood Pressure\\\"\\n    ],\\n    [\\n      \\\"Systolic pressure\\\",\\n      \\\"Systolic Blood Pressure\\\"\\n    ],\\n    [\\n      \\\"Pulmonary edema,Cerebral or visual disturbances\\\",\\n      \\\"Presence of Cerebral or Visual Disturbances\\\"\\n    ],\\n    [\\n      \\\"Right upper quadrant or epigastric pain\\\",\\n      \\\"Epigastric Pain\\\"\\n    ]\\n  ],\\n  \\\"remaining_reference_features\\\": [\\n    \\\"BMI\\\",\\n    \\\"Twin Pregnancy\\\",\\n    \\\"Chronic Hypertension\\\",\\n    \\\"Previous Preclampsia\\\",\\n    \\\"Persistent high blood pressure\\\",\\n    \\\"Antihypertensive drugs used before hospital admission\\\",\\n    \\\"Diabetes mellitus\\\",\\n    \\\"Anesthesia and surgical time\\\"\\n  ],\\n  \\\"remaining_candidate_features\\\": [\\n    \\\"Body Mass Index (BMI)\\\",\\n    \\\"Proteinuria Level\\\",\\n    \\\"Oliguria Level\\\",\\n    \\\"Presence of Pulmonary Edema\\\",\\n    \\\"Hepatic Rupture\\\",\\n    \\\"Hemolysis\\\",\\n    \\\"Elevated Liver Enzymes\\\",\\n    \\\"Low Platelet Count (HELLP) Syndrome\\\",\\n    \\\"Evidence of Fetal Compromise\\\",\\n    \\\"Previous History of Kidney Disease\\\",\\n    \\\"Previous Serum Creatinine Levels\\\",\\n    \\\"Contraindication to Spinal Anesthesia\\\"\\n  ]\\n}\",\n          \"{\\n  \\\"matched_features\\\": [\\n    [\\n      \\\"Age\\\",\\n      \\\"Age\\\"\\n    ],\\n    [\\n      \\\"Creatinine clearance\\\",\\n      \\\"Creatinine Clearance\\\"\\n    ],\\n    [\\n      \\\"HbA1c\\\",\\n      \\\"HbA1c Level\\\"\\n    ],\\n    [\\n      \\\"Body mass index\\\",\\n      \\\"Body Mass Index (BMI)\\\"\\n    ],\\n    [\\n      \\\"Male\\\",\\n      \\\"Sex\\\"\\n    ]\\n  ],\\n  \\\"remaining_reference_features\\\": [\\n    \\\"ht\\\",\\n    \\\"wt\\\",\\n    \\\"No. (%) of patients with PEDIS grade\\\"\\n  ],\\n  \\\"remaining_candidate_features\\\": [\\n    \\\"Diabetes Type (Type 1 or Type 2)\\\",\\n    \\\"Duration of Diabetes\\\",\\n    \\\"Wound Infection Grade\\\",\\n    \\\"History of Hypersensitivity to \\\\u03b2-lactam Antibiotics\\\",\\n    \\\"Concomitant Medications\\\",\\n    \\\"Smoking Status\\\",\\n    \\\"Alcohol Consumption\\\"\\n  ]\\n}\"\n        ],\n        \"semantic_type\": \"\",\n        \"description\": \"\"\n      }\n    },\n    {\n      \"column\": \"llama3_70b_it_ts_gen_matches\",\n      \"properties\": {\n        \"dtype\": \"string\",\n        \"num_unique_values\": 101,\n        \"samples\": [\n          \"{\\n  \\\"matched_features\\\": [\\n    [\\n      \\\"Age\\\",\\n      \\\"Age\\\"\\n    ],\\n    [\\n      \\\"Sex\\\",\\n      \\\"Sex\\\"\\n    ],\\n    [\\n      \\\"Marital status\\\",\\n      \\\"Marital status\\\"\\n    ],\\n    [\\n      \\\"Level of Education\\\",\\n      \\\"Education\\\"\\n    ],\\n    [\\n      \\\"Annual household income\\\",\\n      \\\"Income\\\"\\n    ]\\n  ],\\n  \\\"remaining_reference_features\\\": [\\n    \\\"Race/Ethnicity\\\",\\n    \\\"Frequency of using the internet\\\",\\n    \\\"Level of comfort using the internet\\\",\\n    \\\"Number of melanoma risk\\\",\\n    \\\"Time since Melanoma\\\",\\n    \\\"14 to 24 months disease stage\\\"\\n  ],\\n  \\\"remaining_candidate_features\\\": [\\n    \\\"Race\\\",\\n    \\\"Employment status\\\",\\n    \\\"Melanoma stage\\\",\\n    \\\"Time since diagnosis\\\",\\n    \\\"Previous skin self-examination (SSE) behavior\\\",\\n    \\\"Previous sun protection behavior\\\",\\n    \\\"Family history of melanoma\\\",\\n    \\\"History of sunburns\\\",\\n    \\\"Skin type\\\",\\n    \\\"Number of moles\\\",\\n    \\\"History of smoking\\\"\\n  ]\\n}\",\n          \"{\\n  \\\"matched_features\\\": [\\n    [\\n      \\\"Gestational Age\\\",\\n      \\\"Gestational age\\\"\\n    ],\\n    [\\n      \\\"Age\\\",\\n      \\\"Age\\\"\\n    ],\\n    [\\n      \\\"Diastolic pressure\\\",\\n      \\\"Diastolic blood pressure\\\"\\n    ],\\n    [\\n      \\\"Systolic pressure\\\",\\n      \\\"Systolic blood pressure\\\"\\n    ],\\n    [\\n      \\\"Thrombocytopenia\\\",\\n      \\\"Hemoglobin\\\"\\n    ]\\n  ],\\n  \\\"remaining_reference_features\\\": [\\n    \\\"BMI\\\",\\n    \\\"Twin Pregnancy\\\",\\n    \\\"Chronic Hypertension\\\",\\n    \\\"Previous Preclampsia\\\",\\n    \\\"Persistent high blood pressure\\\",\\n    \\\"Impaired liver function\\\",\\n    \\\"Right upper quadrant or epigastric pain\\\",\\n    \\\"Pulmonary edema,Cerebral or visual disturbances\\\",\\n    \\\"Antihypertensive drugs used before hospital admission\\\",\\n    \\\"Diabetes mellitus\\\",\\n    \\\"Anesthesia and surgical time\\\"\\n  ],\\n  \\\"remaining_candidate_features\\\": [\\n    \\\"Body mass index\\\",\\n    \\\"Proteinuria\\\",\\n    \\\"Serum creatinine\\\",\\n    \\\"Urine output\\\",\\n    \\\"Platelet count\\\",\\n    \\\"Albumin\\\",\\n    \\\"Cystatin C\\\",\\n    \\\"Neutrophil gelatinase-associated lipocalin (NGAL)\\\"\\n  ]\\n}\",\n          \"{\\n  \\\"matched_features\\\": [\\n    [\\n      \\\"Creatinine clearance\\\",\\n      \\\"Creatinine clearance\\\"\\n    ],\\n    [\\n      \\\"HbA1c\\\",\\n      \\\"HbA1c\\\"\\n    ],\\n    [\\n      \\\"Age\\\",\\n      \\\"Age\\\"\\n    ],\\n    [\\n      \\\"Body mass index\\\",\\n      \\\"Body mass index (BMI)\\\"\\n    ],\\n    [\\n      \\\"Male\\\",\\n      \\\"Sex\\\"\\n    ]\\n  ],\\n  \\\"remaining_reference_features\\\": [\\n    \\\"ht\\\",\\n    \\\"wt\\\",\\n    \\\"No. (%) of patients with PEDIS grade\\\"\\n  ],\\n  \\\"remaining_candidate_features\\\": [\\n    \\\"Diabetes type\\\",\\n    \\\"Diabetes duration\\\",\\n    \\\"Wound size\\\",\\n    \\\"Wound grade\\\",\\n    \\\"Concomitant medications\\\",\\n    \\\"History of hypersensitivity to \\\\u03b2-lactam antibiotics\\\",\\n    \\\"History of regular alcohol consumption\\\",\\n    \\\"Tobacco use\\\",\\n    \\\"Use of prescription or nonprescription drugs\\\"\\n  ]\\n}\"\n        ],\n        \"semantic_type\": \"\",\n        \"description\": \"\"\n      }\n    }\n  ]\n}",
              "type": "dataframe",
              "variable_name": "bert_scores"
            },
            "text/html": [
              "\n",
              "  <div id=\"df-155f2ef6-a2d5-4c29-b868-8bc44f356e65\" class=\"colab-df-container\">\n",
              "    <div>\n",
              "<style scoped>\n",
              "    .dataframe tbody tr th:only-of-type {\n",
              "        vertical-align: middle;\n",
              "    }\n",
              "\n",
              "    .dataframe tbody tr th {\n",
              "        vertical-align: top;\n",
              "    }\n",
              "\n",
              "    .dataframe thead th {\n",
              "        text-align: right;\n",
              "    }\n",
              "</style>\n",
              "<table border=\"1\" class=\"dataframe\">\n",
              "  <thead>\n",
              "    <tr style=\"text-align: right;\">\n",
              "      <th></th>\n",
              "      <th>NCTId</th>\n",
              "      <th>gpt4o_zs_gen_matches</th>\n",
              "      <th>gpt4o_ts_gen_matches</th>\n",
              "      <th>llama3_70b_it_zs_gen_matches</th>\n",
              "      <th>llama3_70b_it_ts_gen_matches</th>\n",
              "    </tr>\n",
              "  </thead>\n",
              "  <tbody>\n",
              "    <tr>\n",
              "      <th>0</th>\n",
              "      <td>NCT00000620</td>\n",
              "      <td>nan</td>\n",
              "      <td>nan</td>\n",
              "      <td>nan</td>\n",
              "      <td>nan</td>\n",
              "    </tr>\n",
              "    <tr>\n",
              "      <th>1</th>\n",
              "      <td>NCT00126737</td>\n",
              "      <td>{\\n  \"matched_features\": [\\n    [\\n      \"Age\"...</td>\n",
              "      <td>{\\n  \"matched_features\": [\\n    [\\n      \"BMI\"...</td>\n",
              "      <td>{\\n  \"matched_features\": [\\n    [\\n      \"Age\"...</td>\n",
              "      <td>{\\n  \"matched_features\": [\\n    [\\n      \"Age\"...</td>\n",
              "    </tr>\n",
              "    <tr>\n",
              "      <th>2</th>\n",
              "      <td>NCT00283686</td>\n",
              "      <td>{\\n  \"matched_features\": [\\n    [\\n      \"Age\"...</td>\n",
              "      <td>{\\n  \"matched_features\": [\\n    [\\n      \"tota...</td>\n",
              "      <td>{\\n  \"matched_features\": [\\n    [\\n      \"tota...</td>\n",
              "      <td>{\\n  \"matched_features\": [\\n    [\\n      \"Age\"...</td>\n",
              "    </tr>\n",
              "    <tr>\n",
              "      <th>3</th>\n",
              "      <td>NCT00329030</td>\n",
              "      <td>{\\n  \"matched_features\": [\\n    [\\n      \"Age\"...</td>\n",
              "      <td>{\\n  \"matched_features\": [\\n    [\\n      \"Age\"...</td>\n",
              "      <td>{\\n  \"matched_features\": [\\n    [\\n      \"Race...</td>\n",
              "      <td>{\\n  \"matched_features\": [\\n    [\\n      \"Age\"...</td>\n",
              "    </tr>\n",
              "    <tr>\n",
              "      <th>4</th>\n",
              "      <td>NCT00360334</td>\n",
              "      <td>{\\n  \"matched_features\": [\\n    [\\n      \"HbA1...</td>\n",
              "      <td>{\\n  \"matched_features\": [\\n    [\\n      \"HbA1...</td>\n",
              "      <td>{\\n  \"matched_features\": [\\n    [\\n      \"Age\"...</td>\n",
              "      <td>{\\n  \"matched_features\": [\\n    [\\n      \"HbA1...</td>\n",
              "    </tr>\n",
              "  </tbody>\n",
              "</table>\n",
              "</div>\n",
              "    <div class=\"colab-df-buttons\">\n",
              "\n",
              "  <div class=\"colab-df-container\">\n",
              "    <button class=\"colab-df-convert\" onclick=\"convertToInteractive('df-155f2ef6-a2d5-4c29-b868-8bc44f356e65')\"\n",
              "            title=\"Convert this dataframe to an interactive table.\"\n",
              "            style=\"display:none;\">\n",
              "\n",
              "  <svg xmlns=\"http://www.w3.org/2000/svg\" height=\"24px\" viewBox=\"0 -960 960 960\">\n",
              "    <path d=\"M120-120v-720h720v720H120Zm60-500h600v-160H180v160Zm220 220h160v-160H400v160Zm0 220h160v-160H400v160ZM180-400h160v-160H180v160Zm440 0h160v-160H620v160ZM180-180h160v-160H180v160Zm440 0h160v-160H620v160Z\"/>\n",
              "  </svg>\n",
              "    </button>\n",
              "\n",
              "  <style>\n",
              "    .colab-df-container {\n",
              "      display:flex;\n",
              "      gap: 12px;\n",
              "    }\n",
              "\n",
              "    .colab-df-convert {\n",
              "      background-color: #E8F0FE;\n",
              "      border: none;\n",
              "      border-radius: 50%;\n",
              "      cursor: pointer;\n",
              "      display: none;\n",
              "      fill: #1967D2;\n",
              "      height: 32px;\n",
              "      padding: 0 0 0 0;\n",
              "      width: 32px;\n",
              "    }\n",
              "\n",
              "    .colab-df-convert:hover {\n",
              "      background-color: #E2EBFA;\n",
              "      box-shadow: 0px 1px 2px rgba(60, 64, 67, 0.3), 0px 1px 3px 1px rgba(60, 64, 67, 0.15);\n",
              "      fill: #174EA6;\n",
              "    }\n",
              "\n",
              "    .colab-df-buttons div {\n",
              "      margin-bottom: 4px;\n",
              "    }\n",
              "\n",
              "    [theme=dark] .colab-df-convert {\n",
              "      background-color: #3B4455;\n",
              "      fill: #D2E3FC;\n",
              "    }\n",
              "\n",
              "    [theme=dark] .colab-df-convert:hover {\n",
              "      background-color: #434B5C;\n",
              "      box-shadow: 0px 1px 3px 1px rgba(0, 0, 0, 0.15);\n",
              "      filter: drop-shadow(0px 1px 2px rgba(0, 0, 0, 0.3));\n",
              "      fill: #FFFFFF;\n",
              "    }\n",
              "  </style>\n",
              "\n",
              "    <script>\n",
              "      const buttonEl =\n",
              "        document.querySelector('#df-155f2ef6-a2d5-4c29-b868-8bc44f356e65 button.colab-df-convert');\n",
              "      buttonEl.style.display =\n",
              "        google.colab.kernel.accessAllowed ? 'block' : 'none';\n",
              "\n",
              "      async function convertToInteractive(key) {\n",
              "        const element = document.querySelector('#df-155f2ef6-a2d5-4c29-b868-8bc44f356e65');\n",
              "        const dataTable =\n",
              "          await google.colab.kernel.invokeFunction('convertToInteractive',\n",
              "                                                    [key], {});\n",
              "        if (!dataTable) return;\n",
              "\n",
              "        const docLinkHtml = 'Like what you see? Visit the ' +\n",
              "          '<a target=\"_blank\" href=https://colab.research.google.com/notebooks/data_table.ipynb>data table notebook</a>'\n",
              "          + ' to learn more about interactive tables.';\n",
              "        element.innerHTML = '';\n",
              "        dataTable['output_type'] = 'display_data';\n",
              "        await google.colab.output.renderOutput(dataTable, element);\n",
              "        const docLink = document.createElement('div');\n",
              "        docLink.innerHTML = docLinkHtml;\n",
              "        element.appendChild(docLink);\n",
              "      }\n",
              "    </script>\n",
              "  </div>\n",
              "\n",
              "\n",
              "<div id=\"df-40e3d754-9673-4177-9007-75671b3baa47\">\n",
              "  <button class=\"colab-df-quickchart\" onclick=\"quickchart('df-40e3d754-9673-4177-9007-75671b3baa47')\"\n",
              "            title=\"Suggest charts\"\n",
              "            style=\"display:none;\">\n",
              "\n",
              "<svg xmlns=\"http://www.w3.org/2000/svg\" height=\"24px\"viewBox=\"0 0 24 24\"\n",
              "     width=\"24px\">\n",
              "    <g>\n",
              "        <path d=\"M19 3H5c-1.1 0-2 .9-2 2v14c0 1.1.9 2 2 2h14c1.1 0 2-.9 2-2V5c0-1.1-.9-2-2-2zM9 17H7v-7h2v7zm4 0h-2V7h2v10zm4 0h-2v-4h2v4z\"/>\n",
              "    </g>\n",
              "</svg>\n",
              "  </button>\n",
              "\n",
              "<style>\n",
              "  .colab-df-quickchart {\n",
              "      --bg-color: #E8F0FE;\n",
              "      --fill-color: #1967D2;\n",
              "      --hover-bg-color: #E2EBFA;\n",
              "      --hover-fill-color: #174EA6;\n",
              "      --disabled-fill-color: #AAA;\n",
              "      --disabled-bg-color: #DDD;\n",
              "  }\n",
              "\n",
              "  [theme=dark] .colab-df-quickchart {\n",
              "      --bg-color: #3B4455;\n",
              "      --fill-color: #D2E3FC;\n",
              "      --hover-bg-color: #434B5C;\n",
              "      --hover-fill-color: #FFFFFF;\n",
              "      --disabled-bg-color: #3B4455;\n",
              "      --disabled-fill-color: #666;\n",
              "  }\n",
              "\n",
              "  .colab-df-quickchart {\n",
              "    background-color: var(--bg-color);\n",
              "    border: none;\n",
              "    border-radius: 50%;\n",
              "    cursor: pointer;\n",
              "    display: none;\n",
              "    fill: var(--fill-color);\n",
              "    height: 32px;\n",
              "    padding: 0;\n",
              "    width: 32px;\n",
              "  }\n",
              "\n",
              "  .colab-df-quickchart:hover {\n",
              "    background-color: var(--hover-bg-color);\n",
              "    box-shadow: 0 1px 2px rgba(60, 64, 67, 0.3), 0 1px 3px 1px rgba(60, 64, 67, 0.15);\n",
              "    fill: var(--button-hover-fill-color);\n",
              "  }\n",
              "\n",
              "  .colab-df-quickchart-complete:disabled,\n",
              "  .colab-df-quickchart-complete:disabled:hover {\n",
              "    background-color: var(--disabled-bg-color);\n",
              "    fill: var(--disabled-fill-color);\n",
              "    box-shadow: none;\n",
              "  }\n",
              "\n",
              "  .colab-df-spinner {\n",
              "    border: 2px solid var(--fill-color);\n",
              "    border-color: transparent;\n",
              "    border-bottom-color: var(--fill-color);\n",
              "    animation:\n",
              "      spin 1s steps(1) infinite;\n",
              "  }\n",
              "\n",
              "  @keyframes spin {\n",
              "    0% {\n",
              "      border-color: transparent;\n",
              "      border-bottom-color: var(--fill-color);\n",
              "      border-left-color: var(--fill-color);\n",
              "    }\n",
              "    20% {\n",
              "      border-color: transparent;\n",
              "      border-left-color: var(--fill-color);\n",
              "      border-top-color: var(--fill-color);\n",
              "    }\n",
              "    30% {\n",
              "      border-color: transparent;\n",
              "      border-left-color: var(--fill-color);\n",
              "      border-top-color: var(--fill-color);\n",
              "      border-right-color: var(--fill-color);\n",
              "    }\n",
              "    40% {\n",
              "      border-color: transparent;\n",
              "      border-right-color: var(--fill-color);\n",
              "      border-top-color: var(--fill-color);\n",
              "    }\n",
              "    60% {\n",
              "      border-color: transparent;\n",
              "      border-right-color: var(--fill-color);\n",
              "    }\n",
              "    80% {\n",
              "      border-color: transparent;\n",
              "      border-right-color: var(--fill-color);\n",
              "      border-bottom-color: var(--fill-color);\n",
              "    }\n",
              "    90% {\n",
              "      border-color: transparent;\n",
              "      border-bottom-color: var(--fill-color);\n",
              "    }\n",
              "  }\n",
              "</style>\n",
              "\n",
              "  <script>\n",
              "    async function quickchart(key) {\n",
              "      const quickchartButtonEl =\n",
              "        document.querySelector('#' + key + ' button');\n",
              "      quickchartButtonEl.disabled = true;  // To prevent multiple clicks.\n",
              "      quickchartButtonEl.classList.add('colab-df-spinner');\n",
              "      try {\n",
              "        const charts = await google.colab.kernel.invokeFunction(\n",
              "            'suggestCharts', [key], {});\n",
              "      } catch (error) {\n",
              "        console.error('Error during call to suggestCharts:', error);\n",
              "      }\n",
              "      quickchartButtonEl.classList.remove('colab-df-spinner');\n",
              "      quickchartButtonEl.classList.add('colab-df-quickchart-complete');\n",
              "    }\n",
              "    (() => {\n",
              "      let quickchartButtonEl =\n",
              "        document.querySelector('#df-40e3d754-9673-4177-9007-75671b3baa47 button');\n",
              "      quickchartButtonEl.style.display =\n",
              "        google.colab.kernel.accessAllowed ? 'block' : 'none';\n",
              "    })();\n",
              "  </script>\n",
              "</div>\n",
              "\n",
              "    </div>\n",
              "  </div>\n"
            ],
            "text/plain": [
              "         NCTId                               gpt4o_zs_gen_matches  \\\n",
              "0  NCT00000620                                                nan   \n",
              "1  NCT00126737  {\\n  \"matched_features\": [\\n    [\\n      \"Age\"...   \n",
              "2  NCT00283686  {\\n  \"matched_features\": [\\n    [\\n      \"Age\"...   \n",
              "3  NCT00329030  {\\n  \"matched_features\": [\\n    [\\n      \"Age\"...   \n",
              "4  NCT00360334  {\\n  \"matched_features\": [\\n    [\\n      \"HbA1...   \n",
              "\n",
              "                                gpt4o_ts_gen_matches  \\\n",
              "0                                                nan   \n",
              "1  {\\n  \"matched_features\": [\\n    [\\n      \"BMI\"...   \n",
              "2  {\\n  \"matched_features\": [\\n    [\\n      \"tota...   \n",
              "3  {\\n  \"matched_features\": [\\n    [\\n      \"Age\"...   \n",
              "4  {\\n  \"matched_features\": [\\n    [\\n      \"HbA1...   \n",
              "\n",
              "                        llama3_70b_it_zs_gen_matches  \\\n",
              "0                                                nan   \n",
              "1  {\\n  \"matched_features\": [\\n    [\\n      \"Age\"...   \n",
              "2  {\\n  \"matched_features\": [\\n    [\\n      \"tota...   \n",
              "3  {\\n  \"matched_features\": [\\n    [\\n      \"Race...   \n",
              "4  {\\n  \"matched_features\": [\\n    [\\n      \"Age\"...   \n",
              "\n",
              "                        llama3_70b_it_ts_gen_matches  \n",
              "0                                                nan  \n",
              "1  {\\n  \"matched_features\": [\\n    [\\n      \"Age\"...  \n",
              "2  {\\n  \"matched_features\": [\\n    [\\n      \"Age\"...  \n",
              "3  {\\n  \"matched_features\": [\\n    [\\n      \"Age\"...  \n",
              "4  {\\n  \"matched_features\": [\\n    [\\n      \"HbA1...  "
            ]
          },
          "execution_count": 25,
          "metadata": {},
          "output_type": "execute_result"
        }
      ],
      "source": [
        "#matched document contains match, reference mismatch, candidate mismatch\n",
        "bert_scores.head(5)"
      ]
    },
    {
      "cell_type": "markdown",
      "metadata": {
        "id": "Hv6l1KDHV5O5"
      },
      "source": [
        "## Calculate Bert Scores from BERT Matches"
      ]
    },
    {
      "cell_type": "code",
      "execution_count": 27,
      "metadata": {
        "id": "l2YmBaW0V5XI"
      },
      "outputs": [],
      "source": [
        "score_df = pd.DataFrame()\n",
        "score_df['NCTId'] = data['NCTId']"
      ]
    },
    {
      "cell_type": "code",
      "execution_count": 29,
      "metadata": {
        "id": "2e5WqMVUWBWR"
      },
      "outputs": [],
      "source": [
        "import json\n",
        "\n",
        "gzs_sum = {'precision':0, 'recall':0, 'f1':0}\n",
        "gts_sum = {'precision':0, 'recall':0, 'f1':0}\n",
        "lzs_sum = {'precision':0, 'recall':0, 'f1':0}\n",
        "lts_sum = {'precision':0, 'recall':0, 'f1':0}\n",
        "\n",
        "for index, row in bert_scores.iterrows():\n",
        "    avoid_ids = ['NCT00000620', 'NCT01483560', 'NCT04280783'] #these were used as examples for 3-shot generation\n",
        "    if row['NCTId'] in avoid_ids:\n",
        "        continue\n",
        "\n",
        "    #gzs\n",
        "    gzs_dict = json.loads(row['gpt4o_zs_gen_matches'])\n",
        "    gzs_matches, gzs_remaining_references, gzs_remaining_candidates = gzs_dict['matched_features'], gzs_dict['remaining_reference_features'], gzs_dict['remaining_candidate_features']\n",
        "    gzs_score = match_to_score(gzs_matches, gzs_remaining_references, gzs_remaining_candidates)\n",
        "    score_df.at[index, 'gpt4o_zs_gen_scores'] = json.dumps(gzs_score)\n",
        "    gzs_sum['precision'] += gzs_score['precision']\n",
        "    gzs_sum['recall'] += gzs_score['recall']\n",
        "    gzs_sum['f1'] += gzs_score['f1']\n",
        "\n",
        "    #gts\n",
        "    gts_dict = json.loads(row['gpt4o_ts_gen_matches'])\n",
        "    gts_matches, gts_remaining_references, gts_remaining_candidates = gts_dict['matched_features'], gts_dict['remaining_reference_features'], gts_dict['remaining_candidate_features']\n",
        "    gts_score = match_to_score(gts_matches, gts_remaining_references, gts_remaining_candidates)\n",
        "    score_df.at[index, 'gpt4o_ts_gen_scores'] = json.dumps(gts_score)\n",
        "    gts_sum['precision'] += gts_score['precision']\n",
        "    gts_sum['recall'] += gts_score['recall']\n",
        "    gts_sum['f1'] += gts_score['f1']\n",
        "\n",
        "    #lzs\n",
        "    lzs_dict = json.loads(row['llama3_70b_it_zs_gen_matches'])\n",
        "    lzs_matches, lzs_remaining_references, lzs_remaining_candidates = lzs_dict['matched_features'], lzs_dict['remaining_reference_features'], lzs_dict['remaining_candidate_features']\n",
        "    lzs_score = match_to_score(lzs_matches, lzs_remaining_references, lzs_remaining_candidates)\n",
        "    score_df.at[index, 'llama3_70b_it_zs_gen_scores'] = json.dumps(lzs_score)\n",
        "    lzs_sum['precision'] += lzs_score['precision']\n",
        "    lzs_sum['recall'] += lzs_score['recall']\n",
        "    lzs_sum['f1'] += lzs_score['f1']\n",
        "\n",
        "    #lts\n",
        "    lts_dict = json.loads(row['llama3_70b_it_ts_gen_matches'])\n",
        "    lts_matches, lts_remaining_references, lts_remaining_candidates = lts_dict['matched_features'], lts_dict['remaining_reference_features'], lts_dict['remaining_candidate_features']\n",
        "    lts_score = match_to_score(lts_matches, lts_remaining_references, lts_remaining_candidates)\n",
        "    score_df.at[index, 'llama3_70b_it_ts_gen_scores'] = json.dumps(lts_score)\n",
        "    lts_sum['precision'] += lts_score['precision']\n",
        "    lts_sum['recall'] += lts_score['recall']\n",
        "    lts_sum['f1'] += lts_score['f1']\n",
        "\n",
        "    #break\n",
        "\n"
      ]
    },
    {
      "cell_type": "code",
      "execution_count": 30,
      "metadata": {
        "colab": {
          "base_uri": "https://localhost:8080/",
          "height": 275
        },
        "id": "a6LCLSlwWgYR",
        "outputId": "605ec78a-01a4-4f00-abda-4168e026aae6"
      },
      "outputs": [
        {
          "data": {
            "application/vnd.google.colaboratory.intrinsic+json": {
              "summary": "{\n  \"name\": \"score_df\",\n  \"rows\": 103,\n  \"fields\": [\n    {\n      \"column\": \"NCTId\",\n      \"properties\": {\n        \"dtype\": \"string\",\n        \"num_unique_values\": 103,\n        \"samples\": [\n          \"NCT01435603\",\n          \"NCT02620774\",\n          \"NCT02473926\"\n        ],\n        \"semantic_type\": \"\",\n        \"description\": \"\"\n      }\n    },\n    {\n      \"column\": \"gpt4o_zs_gen_scores\",\n      \"properties\": {\n        \"dtype\": \"string\",\n        \"num_unique_values\": 92,\n        \"samples\": [\n          \"{\\\"precision\\\": 0.11538461538461539, \\\"recall\\\": 0.3, \\\"f1\\\": 0.16666666666666669}\",\n          \"{\\\"precision\\\": 0.18518518518518517, \\\"recall\\\": 0.5555555555555556, \\\"f1\\\": 0.2777777777777778}\",\n          \"{\\\"precision\\\": 0.38095238095238093, \\\"recall\\\": 0.27586206896551724, \\\"f1\\\": 0.32}\"\n        ],\n        \"semantic_type\": \"\",\n        \"description\": \"\"\n      }\n    },\n    {\n      \"column\": \"gpt4o_ts_gen_scores\",\n      \"properties\": {\n        \"dtype\": \"string\",\n        \"num_unique_values\": 93,\n        \"samples\": [\n          \"{\\\"precision\\\": 0.17647058823529413, \\\"recall\\\": 0.3, \\\"f1\\\": 0.22222222222222224}\",\n          \"{\\\"precision\\\": 0.15789473684210525, \\\"recall\\\": 0.42857142857142855, \\\"f1\\\": 0.23076923076923078}\",\n          \"{\\\"precision\\\": 0.6, \\\"recall\\\": 0.3103448275862069, \\\"f1\\\": 0.4090909090909091}\"\n        ],\n        \"semantic_type\": \"\",\n        \"description\": \"\"\n      }\n    },\n    {\n      \"column\": \"llama3_70b_it_zs_gen_scores\",\n      \"properties\": {\n        \"dtype\": \"string\",\n        \"num_unique_values\": 95,\n        \"samples\": [\n          \"{\\\"precision\\\": 0.2, \\\"recall\\\": 0.3333333333333333, \\\"f1\\\": 0.25}\",\n          \"{\\\"precision\\\": 0.46153846153846156, \\\"recall\\\": 0.6666666666666666, \\\"f1\\\": 0.5454545454545455}\",\n          \"{\\\"precision\\\": 0.3125, \\\"recall\\\": 0.2777777777777778, \\\"f1\\\": 0.29411764705882354}\"\n        ],\n        \"semantic_type\": \"\",\n        \"description\": \"\"\n      }\n    },\n    {\n      \"column\": \"llama3_70b_it_ts_gen_scores\",\n      \"properties\": {\n        \"dtype\": \"string\",\n        \"num_unique_values\": 95,\n        \"samples\": [\n          \"{\\\"precision\\\": 0.2222222222222222, \\\"recall\\\": 0.4, \\\"f1\\\": 0.2857142857142857}\",\n          \"{\\\"precision\\\": 0.42857142857142855, \\\"recall\\\": 0.6666666666666666, \\\"f1\\\": 0.5217391304347826}\",\n          \"{\\\"precision\\\": 0.5263157894736842, \\\"recall\\\": 0.35714285714285715, \\\"f1\\\": 0.425531914893617}\"\n        ],\n        \"semantic_type\": \"\",\n        \"description\": \"\"\n      }\n    }\n  ]\n}",
              "type": "dataframe",
              "variable_name": "score_df"
            },
            "text/html": [
              "\n",
              "  <div id=\"df-e05cdfc1-5c90-4a32-830b-eb283342fb9b\" class=\"colab-df-container\">\n",
              "    <div>\n",
              "<style scoped>\n",
              "    .dataframe tbody tr th:only-of-type {\n",
              "        vertical-align: middle;\n",
              "    }\n",
              "\n",
              "    .dataframe tbody tr th {\n",
              "        vertical-align: top;\n",
              "    }\n",
              "\n",
              "    .dataframe thead th {\n",
              "        text-align: right;\n",
              "    }\n",
              "</style>\n",
              "<table border=\"1\" class=\"dataframe\">\n",
              "  <thead>\n",
              "    <tr style=\"text-align: right;\">\n",
              "      <th></th>\n",
              "      <th>NCTId</th>\n",
              "      <th>gpt4o_zs_gen_scores</th>\n",
              "      <th>gpt4o_ts_gen_scores</th>\n",
              "      <th>llama3_70b_it_zs_gen_scores</th>\n",
              "      <th>llama3_70b_it_ts_gen_scores</th>\n",
              "    </tr>\n",
              "  </thead>\n",
              "  <tbody>\n",
              "    <tr>\n",
              "      <th>0</th>\n",
              "      <td>NCT00000620</td>\n",
              "      <td>nan</td>\n",
              "      <td>nan</td>\n",
              "      <td>nan</td>\n",
              "      <td>nan</td>\n",
              "    </tr>\n",
              "    <tr>\n",
              "      <th>1</th>\n",
              "      <td>NCT00126737</td>\n",
              "      <td>{\"precision\": 0.3333333333333333, \"recall\": 0....</td>\n",
              "      <td>{\"precision\": 0.1, \"recall\": 0.166666666666666...</td>\n",
              "      <td>{\"precision\": 0.18181818181818182, \"recall\": 0...</td>\n",
              "      <td>{\"precision\": 0.25, \"recall\": 0.25, \"f1\": 0.25}</td>\n",
              "    </tr>\n",
              "    <tr>\n",
              "      <th>2</th>\n",
              "      <td>NCT00283686</td>\n",
              "      <td>{\"precision\": 0.09523809523809523, \"recall\": 0...</td>\n",
              "      <td>{\"precision\": 0.2631578947368421, \"recall\": 0....</td>\n",
              "      <td>{\"precision\": 0.3125, \"recall\": 0.131578947368...</td>\n",
              "      <td>{\"precision\": 0.2, \"recall\": 0.105263157894736...</td>\n",
              "    </tr>\n",
              "    <tr>\n",
              "      <th>3</th>\n",
              "      <td>NCT00329030</td>\n",
              "      <td>{\"precision\": 0.13043478260869565, \"recall\": 0...</td>\n",
              "      <td>{\"precision\": 0.25, \"recall\": 0.5, \"f1\": 0.333...</td>\n",
              "      <td>{\"precision\": 0.2, \"recall\": 0.5, \"f1\": 0.2857...</td>\n",
              "      <td>{\"precision\": 0.3125, \"recall\": 0.625, \"f1\": 0...</td>\n",
              "    </tr>\n",
              "    <tr>\n",
              "      <th>4</th>\n",
              "      <td>NCT00360334</td>\n",
              "      <td>{\"precision\": 0.4, \"recall\": 0.666666666666666...</td>\n",
              "      <td>{\"precision\": 0.3684210526315789, \"recall\": 0....</td>\n",
              "      <td>{\"precision\": 0.4, \"recall\": 0.666666666666666...</td>\n",
              "      <td>{\"precision\": 0.3, \"recall\": 0.666666666666666...</td>\n",
              "    </tr>\n",
              "  </tbody>\n",
              "</table>\n",
              "</div>\n",
              "    <div class=\"colab-df-buttons\">\n",
              "\n",
              "  <div class=\"colab-df-container\">\n",
              "    <button class=\"colab-df-convert\" onclick=\"convertToInteractive('df-e05cdfc1-5c90-4a32-830b-eb283342fb9b')\"\n",
              "            title=\"Convert this dataframe to an interactive table.\"\n",
              "            style=\"display:none;\">\n",
              "\n",
              "  <svg xmlns=\"http://www.w3.org/2000/svg\" height=\"24px\" viewBox=\"0 -960 960 960\">\n",
              "    <path d=\"M120-120v-720h720v720H120Zm60-500h600v-160H180v160Zm220 220h160v-160H400v160Zm0 220h160v-160H400v160ZM180-400h160v-160H180v160Zm440 0h160v-160H620v160ZM180-180h160v-160H180v160Zm440 0h160v-160H620v160Z\"/>\n",
              "  </svg>\n",
              "    </button>\n",
              "\n",
              "  <style>\n",
              "    .colab-df-container {\n",
              "      display:flex;\n",
              "      gap: 12px;\n",
              "    }\n",
              "\n",
              "    .colab-df-convert {\n",
              "      background-color: #E8F0FE;\n",
              "      border: none;\n",
              "      border-radius: 50%;\n",
              "      cursor: pointer;\n",
              "      display: none;\n",
              "      fill: #1967D2;\n",
              "      height: 32px;\n",
              "      padding: 0 0 0 0;\n",
              "      width: 32px;\n",
              "    }\n",
              "\n",
              "    .colab-df-convert:hover {\n",
              "      background-color: #E2EBFA;\n",
              "      box-shadow: 0px 1px 2px rgba(60, 64, 67, 0.3), 0px 1px 3px 1px rgba(60, 64, 67, 0.15);\n",
              "      fill: #174EA6;\n",
              "    }\n",
              "\n",
              "    .colab-df-buttons div {\n",
              "      margin-bottom: 4px;\n",
              "    }\n",
              "\n",
              "    [theme=dark] .colab-df-convert {\n",
              "      background-color: #3B4455;\n",
              "      fill: #D2E3FC;\n",
              "    }\n",
              "\n",
              "    [theme=dark] .colab-df-convert:hover {\n",
              "      background-color: #434B5C;\n",
              "      box-shadow: 0px 1px 3px 1px rgba(0, 0, 0, 0.15);\n",
              "      filter: drop-shadow(0px 1px 2px rgba(0, 0, 0, 0.3));\n",
              "      fill: #FFFFFF;\n",
              "    }\n",
              "  </style>\n",
              "\n",
              "    <script>\n",
              "      const buttonEl =\n",
              "        document.querySelector('#df-e05cdfc1-5c90-4a32-830b-eb283342fb9b button.colab-df-convert');\n",
              "      buttonEl.style.display =\n",
              "        google.colab.kernel.accessAllowed ? 'block' : 'none';\n",
              "\n",
              "      async function convertToInteractive(key) {\n",
              "        const element = document.querySelector('#df-e05cdfc1-5c90-4a32-830b-eb283342fb9b');\n",
              "        const dataTable =\n",
              "          await google.colab.kernel.invokeFunction('convertToInteractive',\n",
              "                                                    [key], {});\n",
              "        if (!dataTable) return;\n",
              "\n",
              "        const docLinkHtml = 'Like what you see? Visit the ' +\n",
              "          '<a target=\"_blank\" href=https://colab.research.google.com/notebooks/data_table.ipynb>data table notebook</a>'\n",
              "          + ' to learn more about interactive tables.';\n",
              "        element.innerHTML = '';\n",
              "        dataTable['output_type'] = 'display_data';\n",
              "        await google.colab.output.renderOutput(dataTable, element);\n",
              "        const docLink = document.createElement('div');\n",
              "        docLink.innerHTML = docLinkHtml;\n",
              "        element.appendChild(docLink);\n",
              "      }\n",
              "    </script>\n",
              "  </div>\n",
              "\n",
              "\n",
              "<div id=\"df-f82d8ce8-c1c3-44b1-ae2f-dda9edf319af\">\n",
              "  <button class=\"colab-df-quickchart\" onclick=\"quickchart('df-f82d8ce8-c1c3-44b1-ae2f-dda9edf319af')\"\n",
              "            title=\"Suggest charts\"\n",
              "            style=\"display:none;\">\n",
              "\n",
              "<svg xmlns=\"http://www.w3.org/2000/svg\" height=\"24px\"viewBox=\"0 0 24 24\"\n",
              "     width=\"24px\">\n",
              "    <g>\n",
              "        <path d=\"M19 3H5c-1.1 0-2 .9-2 2v14c0 1.1.9 2 2 2h14c1.1 0 2-.9 2-2V5c0-1.1-.9-2-2-2zM9 17H7v-7h2v7zm4 0h-2V7h2v10zm4 0h-2v-4h2v4z\"/>\n",
              "    </g>\n",
              "</svg>\n",
              "  </button>\n",
              "\n",
              "<style>\n",
              "  .colab-df-quickchart {\n",
              "      --bg-color: #E8F0FE;\n",
              "      --fill-color: #1967D2;\n",
              "      --hover-bg-color: #E2EBFA;\n",
              "      --hover-fill-color: #174EA6;\n",
              "      --disabled-fill-color: #AAA;\n",
              "      --disabled-bg-color: #DDD;\n",
              "  }\n",
              "\n",
              "  [theme=dark] .colab-df-quickchart {\n",
              "      --bg-color: #3B4455;\n",
              "      --fill-color: #D2E3FC;\n",
              "      --hover-bg-color: #434B5C;\n",
              "      --hover-fill-color: #FFFFFF;\n",
              "      --disabled-bg-color: #3B4455;\n",
              "      --disabled-fill-color: #666;\n",
              "  }\n",
              "\n",
              "  .colab-df-quickchart {\n",
              "    background-color: var(--bg-color);\n",
              "    border: none;\n",
              "    border-radius: 50%;\n",
              "    cursor: pointer;\n",
              "    display: none;\n",
              "    fill: var(--fill-color);\n",
              "    height: 32px;\n",
              "    padding: 0;\n",
              "    width: 32px;\n",
              "  }\n",
              "\n",
              "  .colab-df-quickchart:hover {\n",
              "    background-color: var(--hover-bg-color);\n",
              "    box-shadow: 0 1px 2px rgba(60, 64, 67, 0.3), 0 1px 3px 1px rgba(60, 64, 67, 0.15);\n",
              "    fill: var(--button-hover-fill-color);\n",
              "  }\n",
              "\n",
              "  .colab-df-quickchart-complete:disabled,\n",
              "  .colab-df-quickchart-complete:disabled:hover {\n",
              "    background-color: var(--disabled-bg-color);\n",
              "    fill: var(--disabled-fill-color);\n",
              "    box-shadow: none;\n",
              "  }\n",
              "\n",
              "  .colab-df-spinner {\n",
              "    border: 2px solid var(--fill-color);\n",
              "    border-color: transparent;\n",
              "    border-bottom-color: var(--fill-color);\n",
              "    animation:\n",
              "      spin 1s steps(1) infinite;\n",
              "  }\n",
              "\n",
              "  @keyframes spin {\n",
              "    0% {\n",
              "      border-color: transparent;\n",
              "      border-bottom-color: var(--fill-color);\n",
              "      border-left-color: var(--fill-color);\n",
              "    }\n",
              "    20% {\n",
              "      border-color: transparent;\n",
              "      border-left-color: var(--fill-color);\n",
              "      border-top-color: var(--fill-color);\n",
              "    }\n",
              "    30% {\n",
              "      border-color: transparent;\n",
              "      border-left-color: var(--fill-color);\n",
              "      border-top-color: var(--fill-color);\n",
              "      border-right-color: var(--fill-color);\n",
              "    }\n",
              "    40% {\n",
              "      border-color: transparent;\n",
              "      border-right-color: var(--fill-color);\n",
              "      border-top-color: var(--fill-color);\n",
              "    }\n",
              "    60% {\n",
              "      border-color: transparent;\n",
              "      border-right-color: var(--fill-color);\n",
              "    }\n",
              "    80% {\n",
              "      border-color: transparent;\n",
              "      border-right-color: var(--fill-color);\n",
              "      border-bottom-color: var(--fill-color);\n",
              "    }\n",
              "    90% {\n",
              "      border-color: transparent;\n",
              "      border-bottom-color: var(--fill-color);\n",
              "    }\n",
              "  }\n",
              "</style>\n",
              "\n",
              "  <script>\n",
              "    async function quickchart(key) {\n",
              "      const quickchartButtonEl =\n",
              "        document.querySelector('#' + key + ' button');\n",
              "      quickchartButtonEl.disabled = true;  // To prevent multiple clicks.\n",
              "      quickchartButtonEl.classList.add('colab-df-spinner');\n",
              "      try {\n",
              "        const charts = await google.colab.kernel.invokeFunction(\n",
              "            'suggestCharts', [key], {});\n",
              "      } catch (error) {\n",
              "        console.error('Error during call to suggestCharts:', error);\n",
              "      }\n",
              "      quickchartButtonEl.classList.remove('colab-df-spinner');\n",
              "      quickchartButtonEl.classList.add('colab-df-quickchart-complete');\n",
              "    }\n",
              "    (() => {\n",
              "      let quickchartButtonEl =\n",
              "        document.querySelector('#df-f82d8ce8-c1c3-44b1-ae2f-dda9edf319af button');\n",
              "      quickchartButtonEl.style.display =\n",
              "        google.colab.kernel.accessAllowed ? 'block' : 'none';\n",
              "    })();\n",
              "  </script>\n",
              "</div>\n",
              "\n",
              "    </div>\n",
              "  </div>\n"
            ],
            "text/plain": [
              "         NCTId                                gpt4o_zs_gen_scores  \\\n",
              "0  NCT00000620                                                nan   \n",
              "1  NCT00126737  {\"precision\": 0.3333333333333333, \"recall\": 0....   \n",
              "2  NCT00283686  {\"precision\": 0.09523809523809523, \"recall\": 0...   \n",
              "3  NCT00329030  {\"precision\": 0.13043478260869565, \"recall\": 0...   \n",
              "4  NCT00360334  {\"precision\": 0.4, \"recall\": 0.666666666666666...   \n",
              "\n",
              "                                 gpt4o_ts_gen_scores  \\\n",
              "0                                                nan   \n",
              "1  {\"precision\": 0.1, \"recall\": 0.166666666666666...   \n",
              "2  {\"precision\": 0.2631578947368421, \"recall\": 0....   \n",
              "3  {\"precision\": 0.25, \"recall\": 0.5, \"f1\": 0.333...   \n",
              "4  {\"precision\": 0.3684210526315789, \"recall\": 0....   \n",
              "\n",
              "                         llama3_70b_it_zs_gen_scores  \\\n",
              "0                                                nan   \n",
              "1  {\"precision\": 0.18181818181818182, \"recall\": 0...   \n",
              "2  {\"precision\": 0.3125, \"recall\": 0.131578947368...   \n",
              "3  {\"precision\": 0.2, \"recall\": 0.5, \"f1\": 0.2857...   \n",
              "4  {\"precision\": 0.4, \"recall\": 0.666666666666666...   \n",
              "\n",
              "                         llama3_70b_it_ts_gen_scores  \n",
              "0                                                nan  \n",
              "1    {\"precision\": 0.25, \"recall\": 0.25, \"f1\": 0.25}  \n",
              "2  {\"precision\": 0.2, \"recall\": 0.105263157894736...  \n",
              "3  {\"precision\": 0.3125, \"recall\": 0.625, \"f1\": 0...  \n",
              "4  {\"precision\": 0.3, \"recall\": 0.666666666666666...  "
            ]
          },
          "execution_count": 30,
          "metadata": {},
          "output_type": "execute_result"
        }
      ],
      "source": [
        "score_df.head()"
      ]
    },
    {
      "cell_type": "code",
      "execution_count": 31,
      "metadata": {
        "id": "IS9qsrD5WtYZ"
      },
      "outputs": [],
      "source": [
        "#save bert scores\n",
        "score_df.to_csv('CT-Pub-With-Examples-Corrected-bertmetric.csv', index=False)"
      ]
    },
    {
      "cell_type": "markdown",
      "metadata": {
        "id": "xg02zXSqW4jV"
      },
      "source": [
        "## Final Scores"
      ]
    },
    {
      "cell_type": "code",
      "execution_count": 32,
      "metadata": {
        "colab": {
          "base_uri": "https://localhost:8080/"
        },
        "id": "Q-JJK0dxW4rV",
        "outputId": "bea11596-b284-4a73-8c35-242fd4b61db5"
      },
      "outputs": [
        {
          "name": "stdout",
          "output_type": "stream",
          "text": [
            "GPT-4o Zero Shot BERT at 0.7 Scores: Precision=0.2758867623799091 Recall=0.3802550904406551 F1=0.30348008744851634\n",
            "GPT-4o Three Shot BERT at 0.7 Scores: Precision=0.32217452370485106 Recall=0.4656893168467595 F1=0.36247077553118456\n",
            "Llama-3 70B Instruct Zero Shot BERT at 0.7 Scores: Precision=0.3323688100255437 Recall=0.4241275077554092 F1=0.3563208994714553\n",
            "Llama-3 70B Instruct Three Shot BERT at 0.7 Scores: Precision=0.3515388329334923 Recall=0.47821348930860885 F1=0.38618022705473715\n"
          ]
        }
      ],
      "source": [
        "print(f\"GPT-4o Zero Shot BERT at 0.7 Scores: Precision={gzs_sum['precision']/100} Recall={gzs_sum['recall']/100} F1={gzs_sum['f1']/100}\")\n",
        "print(f\"GPT-4o Three Shot BERT at 0.7 Scores: Precision={gts_sum['precision']/100} Recall={gts_sum['recall']/100} F1={gts_sum['f1']/100}\")\n",
        "print(f\"Llama-3 70B Instruct Zero Shot BERT at 0.7 Scores: Precision={lzs_sum['precision']/100} Recall={lzs_sum['recall']/100} F1={lzs_sum['f1']/100}\")\n",
        "print(f\"Llama-3 70B Instruct Three Shot BERT at 0.7 Scores: Precision={lts_sum['precision']/100} Recall={lts_sum['recall']/100} F1={lts_sum['f1']/100}\")"
      ]
    }
  ],
  "metadata": {
    "accelerator": "GPU",
    "colab": {
      "gpuType": "T4",
      "provenance": []
    },
    "kernelspec": {
      "display_name": "Python 3",
      "name": "python3"
    },
    "language_info": {
      "name": "python"
    },
    "widgets": {
      "application/vnd.jupyter.widget-state+json": {
        "1a4d2c7090a2425b987db08c340e3ef6": {
          "model_module": "@jupyter-widgets/base",
          "model_module_version": "1.2.0",
          "model_name": "LayoutModel",
          "state": {
            "_model_module": "@jupyter-widgets/base",
            "_model_module_version": "1.2.0",
            "_model_name": "LayoutModel",
            "_view_count": null,
            "_view_module": "@jupyter-widgets/base",
            "_view_module_version": "1.2.0",
            "_view_name": "LayoutView",
            "align_content": null,
            "align_items": null,
            "align_self": null,
            "border": null,
            "bottom": null,
            "display": null,
            "flex": null,
            "flex_flow": null,
            "grid_area": null,
            "grid_auto_columns": null,
            "grid_auto_flow": null,
            "grid_auto_rows": null,
            "grid_column": null,
            "grid_gap": null,
            "grid_row": null,
            "grid_template_areas": null,
            "grid_template_columns": null,
            "grid_template_rows": null,
            "height": null,
            "justify_content": null,
            "justify_items": null,
            "left": null,
            "margin": null,
            "max_height": null,
            "max_width": null,
            "min_height": null,
            "min_width": null,
            "object_fit": null,
            "object_position": null,
            "order": null,
            "overflow": null,
            "overflow_x": null,
            "overflow_y": null,
            "padding": null,
            "right": null,
            "top": null,
            "visibility": null,
            "width": null
          }
        },
        "2289ea46a0144c4eb33c087a752ba95c": {
          "model_module": "@jupyter-widgets/controls",
          "model_module_version": "1.5.0",
          "model_name": "DescriptionStyleModel",
          "state": {
            "_model_module": "@jupyter-widgets/controls",
            "_model_module_version": "1.5.0",
            "_model_name": "DescriptionStyleModel",
            "_view_count": null,
            "_view_module": "@jupyter-widgets/base",
            "_view_module_version": "1.2.0",
            "_view_name": "StyleView",
            "description_width": ""
          }
        },
        "30b135cb458948578dc78db6512b436d": {
          "model_module": "@jupyter-widgets/controls",
          "model_module_version": "1.5.0",
          "model_name": "ProgressStyleModel",
          "state": {
            "_model_module": "@jupyter-widgets/controls",
            "_model_module_version": "1.5.0",
            "_model_name": "ProgressStyleModel",
            "_view_count": null,
            "_view_module": "@jupyter-widgets/base",
            "_view_module_version": "1.2.0",
            "_view_name": "StyleView",
            "bar_color": null,
            "description_width": ""
          }
        },
        "320cc03eafb34126af5d2ae644ed2b2e": {
          "model_module": "@jupyter-widgets/controls",
          "model_module_version": "1.5.0",
          "model_name": "HTMLModel",
          "state": {
            "_dom_classes": [],
            "_model_module": "@jupyter-widgets/controls",
            "_model_module_version": "1.5.0",
            "_model_name": "HTMLModel",
            "_view_count": null,
            "_view_module": "@jupyter-widgets/controls",
            "_view_module_version": "1.5.0",
            "_view_name": "HTMLView",
            "description": "",
            "description_tooltip": null,
            "layout": "IPY_MODEL_1a4d2c7090a2425b987db08c340e3ef6",
            "placeholder": "​",
            "style": "IPY_MODEL_a51a263056b44ae89a9d91e2b8a18c28",
            "value": "pytorch_model.bin: 100%"
          }
        },
        "4a5afe249f024ebe86e9fca424c17bb8": {
          "model_module": "@jupyter-widgets/controls",
          "model_module_version": "1.5.0",
          "model_name": "HTMLModel",
          "state": {
            "_dom_classes": [],
            "_model_module": "@jupyter-widgets/controls",
            "_model_module_version": "1.5.0",
            "_model_name": "HTMLModel",
            "_view_count": null,
            "_view_module": "@jupyter-widgets/controls",
            "_view_module_version": "1.5.0",
            "_view_name": "HTMLView",
            "description": "",
            "description_tooltip": null,
            "layout": "IPY_MODEL_5be9950eea0142e5982a1ab5cc8f86a0",
            "placeholder": "​",
            "style": "IPY_MODEL_2289ea46a0144c4eb33c087a752ba95c",
            "value": "config.json: 100%"
          }
        },
        "4a619d4f09b743d9b8858d97e892eb7d": {
          "model_module": "@jupyter-widgets/controls",
          "model_module_version": "1.5.0",
          "model_name": "HTMLModel",
          "state": {
            "_dom_classes": [],
            "_model_module": "@jupyter-widgets/controls",
            "_model_module_version": "1.5.0",
            "_model_name": "HTMLModel",
            "_view_count": null,
            "_view_module": "@jupyter-widgets/controls",
            "_view_module_version": "1.5.0",
            "_view_name": "HTMLView",
            "description": "",
            "description_tooltip": null,
            "layout": "IPY_MODEL_5ddcf8e896f64564b58068e4b93b3fde",
            "placeholder": "​",
            "style": "IPY_MODEL_c376201f763f4284ba126e96a059275f",
            "value": "vocab.txt: 100%"
          }
        },
        "4a79070e80d74683a4f60d951b4a0ead": {
          "model_module": "@jupyter-widgets/controls",
          "model_module_version": "1.5.0",
          "model_name": "ProgressStyleModel",
          "state": {
            "_model_module": "@jupyter-widgets/controls",
            "_model_module_version": "1.5.0",
            "_model_name": "ProgressStyleModel",
            "_view_count": null,
            "_view_module": "@jupyter-widgets/base",
            "_view_module_version": "1.2.0",
            "_view_name": "StyleView",
            "bar_color": null,
            "description_width": ""
          }
        },
        "4ab4af09a444438b8fc43db702c027ea": {
          "model_module": "@jupyter-widgets/controls",
          "model_module_version": "1.5.0",
          "model_name": "DescriptionStyleModel",
          "state": {
            "_model_module": "@jupyter-widgets/controls",
            "_model_module_version": "1.5.0",
            "_model_name": "DescriptionStyleModel",
            "_view_count": null,
            "_view_module": "@jupyter-widgets/base",
            "_view_module_version": "1.2.0",
            "_view_name": "StyleView",
            "description_width": ""
          }
        },
        "534dad3df2074933b2bc63fd7ab6d18e": {
          "model_module": "@jupyter-widgets/controls",
          "model_module_version": "1.5.0",
          "model_name": "HBoxModel",
          "state": {
            "_dom_classes": [],
            "_model_module": "@jupyter-widgets/controls",
            "_model_module_version": "1.5.0",
            "_model_name": "HBoxModel",
            "_view_count": null,
            "_view_module": "@jupyter-widgets/controls",
            "_view_module_version": "1.5.0",
            "_view_name": "HBoxView",
            "box_style": "",
            "children": [
              "IPY_MODEL_4a5afe249f024ebe86e9fca424c17bb8",
              "IPY_MODEL_57c9c97dd8044bc9b2b447fed13509ba",
              "IPY_MODEL_775e6ac3d85a456a83a2b3eb400e413b"
            ],
            "layout": "IPY_MODEL_6ac4301f49ff445583298ddfaef170be"
          }
        },
        "57c9c97dd8044bc9b2b447fed13509ba": {
          "model_module": "@jupyter-widgets/controls",
          "model_module_version": "1.5.0",
          "model_name": "FloatProgressModel",
          "state": {
            "_dom_classes": [],
            "_model_module": "@jupyter-widgets/controls",
            "_model_module_version": "1.5.0",
            "_model_name": "FloatProgressModel",
            "_view_count": null,
            "_view_module": "@jupyter-widgets/controls",
            "_view_module_version": "1.5.0",
            "_view_name": "ProgressView",
            "bar_style": "success",
            "description": "",
            "description_tooltip": null,
            "layout": "IPY_MODEL_c7947de01c954367ab455c9b4f5211f4",
            "max": 385,
            "min": 0,
            "orientation": "horizontal",
            "style": "IPY_MODEL_30b135cb458948578dc78db6512b436d",
            "value": 385
          }
        },
        "5be9950eea0142e5982a1ab5cc8f86a0": {
          "model_module": "@jupyter-widgets/base",
          "model_module_version": "1.2.0",
          "model_name": "LayoutModel",
          "state": {
            "_model_module": "@jupyter-widgets/base",
            "_model_module_version": "1.2.0",
            "_model_name": "LayoutModel",
            "_view_count": null,
            "_view_module": "@jupyter-widgets/base",
            "_view_module_version": "1.2.0",
            "_view_name": "LayoutView",
            "align_content": null,
            "align_items": null,
            "align_self": null,
            "border": null,
            "bottom": null,
            "display": null,
            "flex": null,
            "flex_flow": null,
            "grid_area": null,
            "grid_auto_columns": null,
            "grid_auto_flow": null,
            "grid_auto_rows": null,
            "grid_column": null,
            "grid_gap": null,
            "grid_row": null,
            "grid_template_areas": null,
            "grid_template_columns": null,
            "grid_template_rows": null,
            "height": null,
            "justify_content": null,
            "justify_items": null,
            "left": null,
            "margin": null,
            "max_height": null,
            "max_width": null,
            "min_height": null,
            "min_width": null,
            "object_fit": null,
            "object_position": null,
            "order": null,
            "overflow": null,
            "overflow_x": null,
            "overflow_y": null,
            "padding": null,
            "right": null,
            "top": null,
            "visibility": null,
            "width": null
          }
        },
        "5ddcf8e896f64564b58068e4b93b3fde": {
          "model_module": "@jupyter-widgets/base",
          "model_module_version": "1.2.0",
          "model_name": "LayoutModel",
          "state": {
            "_model_module": "@jupyter-widgets/base",
            "_model_module_version": "1.2.0",
            "_model_name": "LayoutModel",
            "_view_count": null,
            "_view_module": "@jupyter-widgets/base",
            "_view_module_version": "1.2.0",
            "_view_name": "LayoutView",
            "align_content": null,
            "align_items": null,
            "align_self": null,
            "border": null,
            "bottom": null,
            "display": null,
            "flex": null,
            "flex_flow": null,
            "grid_area": null,
            "grid_auto_columns": null,
            "grid_auto_flow": null,
            "grid_auto_rows": null,
            "grid_column": null,
            "grid_gap": null,
            "grid_row": null,
            "grid_template_areas": null,
            "grid_template_columns": null,
            "grid_template_rows": null,
            "height": null,
            "justify_content": null,
            "justify_items": null,
            "left": null,
            "margin": null,
            "max_height": null,
            "max_width": null,
            "min_height": null,
            "min_width": null,
            "object_fit": null,
            "object_position": null,
            "order": null,
            "overflow": null,
            "overflow_x": null,
            "overflow_y": null,
            "padding": null,
            "right": null,
            "top": null,
            "visibility": null,
            "width": null
          }
        },
        "5e4a063d75b84094800d3b0db80c35bb": {
          "model_module": "@jupyter-widgets/base",
          "model_module_version": "1.2.0",
          "model_name": "LayoutModel",
          "state": {
            "_model_module": "@jupyter-widgets/base",
            "_model_module_version": "1.2.0",
            "_model_name": "LayoutModel",
            "_view_count": null,
            "_view_module": "@jupyter-widgets/base",
            "_view_module_version": "1.2.0",
            "_view_name": "LayoutView",
            "align_content": null,
            "align_items": null,
            "align_self": null,
            "border": null,
            "bottom": null,
            "display": null,
            "flex": null,
            "flex_flow": null,
            "grid_area": null,
            "grid_auto_columns": null,
            "grid_auto_flow": null,
            "grid_auto_rows": null,
            "grid_column": null,
            "grid_gap": null,
            "grid_row": null,
            "grid_template_areas": null,
            "grid_template_columns": null,
            "grid_template_rows": null,
            "height": null,
            "justify_content": null,
            "justify_items": null,
            "left": null,
            "margin": null,
            "max_height": null,
            "max_width": null,
            "min_height": null,
            "min_width": null,
            "object_fit": null,
            "object_position": null,
            "order": null,
            "overflow": null,
            "overflow_x": null,
            "overflow_y": null,
            "padding": null,
            "right": null,
            "top": null,
            "visibility": null,
            "width": null
          }
        },
        "5f958b1eae48489bb967a1af0c28b6f2": {
          "model_module": "@jupyter-widgets/controls",
          "model_module_version": "1.5.0",
          "model_name": "FloatProgressModel",
          "state": {
            "_dom_classes": [],
            "_model_module": "@jupyter-widgets/controls",
            "_model_module_version": "1.5.0",
            "_model_name": "FloatProgressModel",
            "_view_count": null,
            "_view_module": "@jupyter-widgets/controls",
            "_view_module_version": "1.5.0",
            "_view_name": "ProgressView",
            "bar_style": "success",
            "description": "",
            "description_tooltip": null,
            "layout": "IPY_MODEL_949a2dec131045a387da3e75defaa8ab",
            "max": 213450,
            "min": 0,
            "orientation": "horizontal",
            "style": "IPY_MODEL_a5da71c3b5e446ea86f2dd83fa4551a2",
            "value": 213450
          }
        },
        "6ac4301f49ff445583298ddfaef170be": {
          "model_module": "@jupyter-widgets/base",
          "model_module_version": "1.2.0",
          "model_name": "LayoutModel",
          "state": {
            "_model_module": "@jupyter-widgets/base",
            "_model_module_version": "1.2.0",
            "_model_name": "LayoutModel",
            "_view_count": null,
            "_view_module": "@jupyter-widgets/base",
            "_view_module_version": "1.2.0",
            "_view_name": "LayoutView",
            "align_content": null,
            "align_items": null,
            "align_self": null,
            "border": null,
            "bottom": null,
            "display": null,
            "flex": null,
            "flex_flow": null,
            "grid_area": null,
            "grid_auto_columns": null,
            "grid_auto_flow": null,
            "grid_auto_rows": null,
            "grid_column": null,
            "grid_gap": null,
            "grid_row": null,
            "grid_template_areas": null,
            "grid_template_columns": null,
            "grid_template_rows": null,
            "height": null,
            "justify_content": null,
            "justify_items": null,
            "left": null,
            "margin": null,
            "max_height": null,
            "max_width": null,
            "min_height": null,
            "min_width": null,
            "object_fit": null,
            "object_position": null,
            "order": null,
            "overflow": null,
            "overflow_x": null,
            "overflow_y": null,
            "padding": null,
            "right": null,
            "top": null,
            "visibility": null,
            "width": null
          }
        },
        "74eb62b414ba4a44b5f0c920f4afa1ee": {
          "model_module": "@jupyter-widgets/base",
          "model_module_version": "1.2.0",
          "model_name": "LayoutModel",
          "state": {
            "_model_module": "@jupyter-widgets/base",
            "_model_module_version": "1.2.0",
            "_model_name": "LayoutModel",
            "_view_count": null,
            "_view_module": "@jupyter-widgets/base",
            "_view_module_version": "1.2.0",
            "_view_name": "LayoutView",
            "align_content": null,
            "align_items": null,
            "align_self": null,
            "border": null,
            "bottom": null,
            "display": null,
            "flex": null,
            "flex_flow": null,
            "grid_area": null,
            "grid_auto_columns": null,
            "grid_auto_flow": null,
            "grid_auto_rows": null,
            "grid_column": null,
            "grid_gap": null,
            "grid_row": null,
            "grid_template_areas": null,
            "grid_template_columns": null,
            "grid_template_rows": null,
            "height": null,
            "justify_content": null,
            "justify_items": null,
            "left": null,
            "margin": null,
            "max_height": null,
            "max_width": null,
            "min_height": null,
            "min_width": null,
            "object_fit": null,
            "object_position": null,
            "order": null,
            "overflow": null,
            "overflow_x": null,
            "overflow_y": null,
            "padding": null,
            "right": null,
            "top": null,
            "visibility": null,
            "width": null
          }
        },
        "752c0a40ac04431f9ee37214ecca42eb": {
          "model_module": "@jupyter-widgets/controls",
          "model_module_version": "1.5.0",
          "model_name": "FloatProgressModel",
          "state": {
            "_dom_classes": [],
            "_model_module": "@jupyter-widgets/controls",
            "_model_module_version": "1.5.0",
            "_model_name": "FloatProgressModel",
            "_view_count": null,
            "_view_module": "@jupyter-widgets/controls",
            "_view_module_version": "1.5.0",
            "_view_name": "ProgressView",
            "bar_style": "success",
            "description": "",
            "description_tooltip": null,
            "layout": "IPY_MODEL_74eb62b414ba4a44b5f0c920f4afa1ee",
            "max": 435778770,
            "min": 0,
            "orientation": "horizontal",
            "style": "IPY_MODEL_4a79070e80d74683a4f60d951b4a0ead",
            "value": 435778770
          }
        },
        "76bf0aa251a14c4696a1249c73f7ec2f": {
          "model_module": "@jupyter-widgets/base",
          "model_module_version": "1.2.0",
          "model_name": "LayoutModel",
          "state": {
            "_model_module": "@jupyter-widgets/base",
            "_model_module_version": "1.2.0",
            "_model_name": "LayoutModel",
            "_view_count": null,
            "_view_module": "@jupyter-widgets/base",
            "_view_module_version": "1.2.0",
            "_view_name": "LayoutView",
            "align_content": null,
            "align_items": null,
            "align_self": null,
            "border": null,
            "bottom": null,
            "display": null,
            "flex": null,
            "flex_flow": null,
            "grid_area": null,
            "grid_auto_columns": null,
            "grid_auto_flow": null,
            "grid_auto_rows": null,
            "grid_column": null,
            "grid_gap": null,
            "grid_row": null,
            "grid_template_areas": null,
            "grid_template_columns": null,
            "grid_template_rows": null,
            "height": null,
            "justify_content": null,
            "justify_items": null,
            "left": null,
            "margin": null,
            "max_height": null,
            "max_width": null,
            "min_height": null,
            "min_width": null,
            "object_fit": null,
            "object_position": null,
            "order": null,
            "overflow": null,
            "overflow_x": null,
            "overflow_y": null,
            "padding": null,
            "right": null,
            "top": null,
            "visibility": null,
            "width": null
          }
        },
        "775e6ac3d85a456a83a2b3eb400e413b": {
          "model_module": "@jupyter-widgets/controls",
          "model_module_version": "1.5.0",
          "model_name": "HTMLModel",
          "state": {
            "_dom_classes": [],
            "_model_module": "@jupyter-widgets/controls",
            "_model_module_version": "1.5.0",
            "_model_name": "HTMLModel",
            "_view_count": null,
            "_view_module": "@jupyter-widgets/controls",
            "_view_module_version": "1.5.0",
            "_view_name": "HTMLView",
            "description": "",
            "description_tooltip": null,
            "layout": "IPY_MODEL_e0cb15a6399e4e2ea7f50a934c42cad7",
            "placeholder": "​",
            "style": "IPY_MODEL_a4019cf0adae4278a984b47b92681ee3",
            "value": " 385/385 [00:00&lt;00:00, 12.8kB/s]"
          }
        },
        "949a2dec131045a387da3e75defaa8ab": {
          "model_module": "@jupyter-widgets/base",
          "model_module_version": "1.2.0",
          "model_name": "LayoutModel",
          "state": {
            "_model_module": "@jupyter-widgets/base",
            "_model_module_version": "1.2.0",
            "_model_name": "LayoutModel",
            "_view_count": null,
            "_view_module": "@jupyter-widgets/base",
            "_view_module_version": "1.2.0",
            "_view_name": "LayoutView",
            "align_content": null,
            "align_items": null,
            "align_self": null,
            "border": null,
            "bottom": null,
            "display": null,
            "flex": null,
            "flex_flow": null,
            "grid_area": null,
            "grid_auto_columns": null,
            "grid_auto_flow": null,
            "grid_auto_rows": null,
            "grid_column": null,
            "grid_gap": null,
            "grid_row": null,
            "grid_template_areas": null,
            "grid_template_columns": null,
            "grid_template_rows": null,
            "height": null,
            "justify_content": null,
            "justify_items": null,
            "left": null,
            "margin": null,
            "max_height": null,
            "max_width": null,
            "min_height": null,
            "min_width": null,
            "object_fit": null,
            "object_position": null,
            "order": null,
            "overflow": null,
            "overflow_x": null,
            "overflow_y": null,
            "padding": null,
            "right": null,
            "top": null,
            "visibility": null,
            "width": null
          }
        },
        "98c3998862a24b7eb05efbeaf68067e1": {
          "model_module": "@jupyter-widgets/controls",
          "model_module_version": "1.5.0",
          "model_name": "HTMLModel",
          "state": {
            "_dom_classes": [],
            "_model_module": "@jupyter-widgets/controls",
            "_model_module_version": "1.5.0",
            "_model_name": "HTMLModel",
            "_view_count": null,
            "_view_module": "@jupyter-widgets/controls",
            "_view_module_version": "1.5.0",
            "_view_name": "HTMLView",
            "description": "",
            "description_tooltip": null,
            "layout": "IPY_MODEL_5e4a063d75b84094800d3b0db80c35bb",
            "placeholder": "​",
            "style": "IPY_MODEL_4ab4af09a444438b8fc43db702c027ea",
            "value": " 436M/436M [00:03&lt;00:00, 142MB/s]"
          }
        },
        "a4019cf0adae4278a984b47b92681ee3": {
          "model_module": "@jupyter-widgets/controls",
          "model_module_version": "1.5.0",
          "model_name": "DescriptionStyleModel",
          "state": {
            "_model_module": "@jupyter-widgets/controls",
            "_model_module_version": "1.5.0",
            "_model_name": "DescriptionStyleModel",
            "_view_count": null,
            "_view_module": "@jupyter-widgets/base",
            "_view_module_version": "1.2.0",
            "_view_name": "StyleView",
            "description_width": ""
          }
        },
        "a51a263056b44ae89a9d91e2b8a18c28": {
          "model_module": "@jupyter-widgets/controls",
          "model_module_version": "1.5.0",
          "model_name": "DescriptionStyleModel",
          "state": {
            "_model_module": "@jupyter-widgets/controls",
            "_model_module_version": "1.5.0",
            "_model_name": "DescriptionStyleModel",
            "_view_count": null,
            "_view_module": "@jupyter-widgets/base",
            "_view_module_version": "1.2.0",
            "_view_name": "StyleView",
            "description_width": ""
          }
        },
        "a5da71c3b5e446ea86f2dd83fa4551a2": {
          "model_module": "@jupyter-widgets/controls",
          "model_module_version": "1.5.0",
          "model_name": "ProgressStyleModel",
          "state": {
            "_model_module": "@jupyter-widgets/controls",
            "_model_module_version": "1.5.0",
            "_model_name": "ProgressStyleModel",
            "_view_count": null,
            "_view_module": "@jupyter-widgets/base",
            "_view_module_version": "1.2.0",
            "_view_name": "StyleView",
            "bar_color": null,
            "description_width": ""
          }
        },
        "b228b566ab5e4b319409cc991ea3e7dd": {
          "model_module": "@jupyter-widgets/controls",
          "model_module_version": "1.5.0",
          "model_name": "HTMLModel",
          "state": {
            "_dom_classes": [],
            "_model_module": "@jupyter-widgets/controls",
            "_model_module_version": "1.5.0",
            "_model_name": "HTMLModel",
            "_view_count": null,
            "_view_module": "@jupyter-widgets/controls",
            "_view_module_version": "1.5.0",
            "_view_name": "HTMLView",
            "description": "",
            "description_tooltip": null,
            "layout": "IPY_MODEL_b33e612754b640a3a093987a894a89c1",
            "placeholder": "​",
            "style": "IPY_MODEL_f07475313d8048c6946881885615f819",
            "value": " 213k/213k [00:00&lt;00:00, 1.29MB/s]"
          }
        },
        "b33e612754b640a3a093987a894a89c1": {
          "model_module": "@jupyter-widgets/base",
          "model_module_version": "1.2.0",
          "model_name": "LayoutModel",
          "state": {
            "_model_module": "@jupyter-widgets/base",
            "_model_module_version": "1.2.0",
            "_model_name": "LayoutModel",
            "_view_count": null,
            "_view_module": "@jupyter-widgets/base",
            "_view_module_version": "1.2.0",
            "_view_name": "LayoutView",
            "align_content": null,
            "align_items": null,
            "align_self": null,
            "border": null,
            "bottom": null,
            "display": null,
            "flex": null,
            "flex_flow": null,
            "grid_area": null,
            "grid_auto_columns": null,
            "grid_auto_flow": null,
            "grid_auto_rows": null,
            "grid_column": null,
            "grid_gap": null,
            "grid_row": null,
            "grid_template_areas": null,
            "grid_template_columns": null,
            "grid_template_rows": null,
            "height": null,
            "justify_content": null,
            "justify_items": null,
            "left": null,
            "margin": null,
            "max_height": null,
            "max_width": null,
            "min_height": null,
            "min_width": null,
            "object_fit": null,
            "object_position": null,
            "order": null,
            "overflow": null,
            "overflow_x": null,
            "overflow_y": null,
            "padding": null,
            "right": null,
            "top": null,
            "visibility": null,
            "width": null
          }
        },
        "c04ed6028cb94e5ba10c24f7657138b1": {
          "model_module": "@jupyter-widgets/base",
          "model_module_version": "1.2.0",
          "model_name": "LayoutModel",
          "state": {
            "_model_module": "@jupyter-widgets/base",
            "_model_module_version": "1.2.0",
            "_model_name": "LayoutModel",
            "_view_count": null,
            "_view_module": "@jupyter-widgets/base",
            "_view_module_version": "1.2.0",
            "_view_name": "LayoutView",
            "align_content": null,
            "align_items": null,
            "align_self": null,
            "border": null,
            "bottom": null,
            "display": null,
            "flex": null,
            "flex_flow": null,
            "grid_area": null,
            "grid_auto_columns": null,
            "grid_auto_flow": null,
            "grid_auto_rows": null,
            "grid_column": null,
            "grid_gap": null,
            "grid_row": null,
            "grid_template_areas": null,
            "grid_template_columns": null,
            "grid_template_rows": null,
            "height": null,
            "justify_content": null,
            "justify_items": null,
            "left": null,
            "margin": null,
            "max_height": null,
            "max_width": null,
            "min_height": null,
            "min_width": null,
            "object_fit": null,
            "object_position": null,
            "order": null,
            "overflow": null,
            "overflow_x": null,
            "overflow_y": null,
            "padding": null,
            "right": null,
            "top": null,
            "visibility": null,
            "width": null
          }
        },
        "c376201f763f4284ba126e96a059275f": {
          "model_module": "@jupyter-widgets/controls",
          "model_module_version": "1.5.0",
          "model_name": "DescriptionStyleModel",
          "state": {
            "_model_module": "@jupyter-widgets/controls",
            "_model_module_version": "1.5.0",
            "_model_name": "DescriptionStyleModel",
            "_view_count": null,
            "_view_module": "@jupyter-widgets/base",
            "_view_module_version": "1.2.0",
            "_view_name": "StyleView",
            "description_width": ""
          }
        },
        "c7947de01c954367ab455c9b4f5211f4": {
          "model_module": "@jupyter-widgets/base",
          "model_module_version": "1.2.0",
          "model_name": "LayoutModel",
          "state": {
            "_model_module": "@jupyter-widgets/base",
            "_model_module_version": "1.2.0",
            "_model_name": "LayoutModel",
            "_view_count": null,
            "_view_module": "@jupyter-widgets/base",
            "_view_module_version": "1.2.0",
            "_view_name": "LayoutView",
            "align_content": null,
            "align_items": null,
            "align_self": null,
            "border": null,
            "bottom": null,
            "display": null,
            "flex": null,
            "flex_flow": null,
            "grid_area": null,
            "grid_auto_columns": null,
            "grid_auto_flow": null,
            "grid_auto_rows": null,
            "grid_column": null,
            "grid_gap": null,
            "grid_row": null,
            "grid_template_areas": null,
            "grid_template_columns": null,
            "grid_template_rows": null,
            "height": null,
            "justify_content": null,
            "justify_items": null,
            "left": null,
            "margin": null,
            "max_height": null,
            "max_width": null,
            "min_height": null,
            "min_width": null,
            "object_fit": null,
            "object_position": null,
            "order": null,
            "overflow": null,
            "overflow_x": null,
            "overflow_y": null,
            "padding": null,
            "right": null,
            "top": null,
            "visibility": null,
            "width": null
          }
        },
        "cf406018bf234e35a6fa80716d8bbb83": {
          "model_module": "@jupyter-widgets/controls",
          "model_module_version": "1.5.0",
          "model_name": "HBoxModel",
          "state": {
            "_dom_classes": [],
            "_model_module": "@jupyter-widgets/controls",
            "_model_module_version": "1.5.0",
            "_model_name": "HBoxModel",
            "_view_count": null,
            "_view_module": "@jupyter-widgets/controls",
            "_view_module_version": "1.5.0",
            "_view_name": "HBoxView",
            "box_style": "",
            "children": [
              "IPY_MODEL_320cc03eafb34126af5d2ae644ed2b2e",
              "IPY_MODEL_752c0a40ac04431f9ee37214ecca42eb",
              "IPY_MODEL_98c3998862a24b7eb05efbeaf68067e1"
            ],
            "layout": "IPY_MODEL_c04ed6028cb94e5ba10c24f7657138b1"
          }
        },
        "d53cf8c82d9047fb9fba200f1f34a5e9": {
          "model_module": "@jupyter-widgets/controls",
          "model_module_version": "1.5.0",
          "model_name": "HBoxModel",
          "state": {
            "_dom_classes": [],
            "_model_module": "@jupyter-widgets/controls",
            "_model_module_version": "1.5.0",
            "_model_name": "HBoxModel",
            "_view_count": null,
            "_view_module": "@jupyter-widgets/controls",
            "_view_module_version": "1.5.0",
            "_view_name": "HBoxView",
            "box_style": "",
            "children": [
              "IPY_MODEL_4a619d4f09b743d9b8858d97e892eb7d",
              "IPY_MODEL_5f958b1eae48489bb967a1af0c28b6f2",
              "IPY_MODEL_b228b566ab5e4b319409cc991ea3e7dd"
            ],
            "layout": "IPY_MODEL_76bf0aa251a14c4696a1249c73f7ec2f"
          }
        },
        "e0cb15a6399e4e2ea7f50a934c42cad7": {
          "model_module": "@jupyter-widgets/base",
          "model_module_version": "1.2.0",
          "model_name": "LayoutModel",
          "state": {
            "_model_module": "@jupyter-widgets/base",
            "_model_module_version": "1.2.0",
            "_model_name": "LayoutModel",
            "_view_count": null,
            "_view_module": "@jupyter-widgets/base",
            "_view_module_version": "1.2.0",
            "_view_name": "LayoutView",
            "align_content": null,
            "align_items": null,
            "align_self": null,
            "border": null,
            "bottom": null,
            "display": null,
            "flex": null,
            "flex_flow": null,
            "grid_area": null,
            "grid_auto_columns": null,
            "grid_auto_flow": null,
            "grid_auto_rows": null,
            "grid_column": null,
            "grid_gap": null,
            "grid_row": null,
            "grid_template_areas": null,
            "grid_template_columns": null,
            "grid_template_rows": null,
            "height": null,
            "justify_content": null,
            "justify_items": null,
            "left": null,
            "margin": null,
            "max_height": null,
            "max_width": null,
            "min_height": null,
            "min_width": null,
            "object_fit": null,
            "object_position": null,
            "order": null,
            "overflow": null,
            "overflow_x": null,
            "overflow_y": null,
            "padding": null,
            "right": null,
            "top": null,
            "visibility": null,
            "width": null
          }
        },
        "f07475313d8048c6946881885615f819": {
          "model_module": "@jupyter-widgets/controls",
          "model_module_version": "1.5.0",
          "model_name": "DescriptionStyleModel",
          "state": {
            "_model_module": "@jupyter-widgets/controls",
            "_model_module_version": "1.5.0",
            "_model_name": "DescriptionStyleModel",
            "_view_count": null,
            "_view_module": "@jupyter-widgets/base",
            "_view_module_version": "1.2.0",
            "_view_name": "StyleView",
            "description_width": ""
          }
        }
      }
    }
  },
  "nbformat": 4,
  "nbformat_minor": 0
}
